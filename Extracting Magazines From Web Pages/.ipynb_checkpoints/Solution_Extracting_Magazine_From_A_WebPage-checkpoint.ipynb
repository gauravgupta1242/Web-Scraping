{
 "cells": [
  {
   "cell_type": "markdown",
   "metadata": {},
   "source": [
    "# Web Scraping Using Beautiful Soup and html5lib"
   ]
  },
  {
   "cell_type": "markdown",
   "metadata": {},
   "source": [
    "## Scraping a news channel and converting the data into excel /csv and Each news section into a pdf file"
   ]
  },
  {
   "cell_type": "code",
   "execution_count": 1,
   "metadata": {},
   "outputs": [],
   "source": [
    "import pandas as pd\n",
    "import requests \n",
    "from bs4 import BeautifulSoup \n",
    "import csv "
   ]
  },
  {
   "cell_type": "markdown",
   "metadata": {},
   "source": [
    "# extracting all data source from each news section"
   ]
  },
  {
   "cell_type": "code",
   "execution_count": 12,
   "metadata": {},
   "outputs": [
    {
     "name": "stdout",
     "output_type": "stream",
     "text": [
      "<div class=\"catagory-listing\"><div class=\"pic\"> <img alt=\"\" data-preview-url=\"\" src=\"https://akm-img-a-in.tosshub.com/indiatoday/images/story/202009/IMG_20200912_124106-170x96.jpeg?zNR2UgTDjslloUF51uUzGWexKOMEMpGl\" title=\"\"/></div><div class=\"detail\"><h2 class=\"\" title=\"This Mahalaya, meet Kolkata's last radio man\"><a href=\"/india/story/this-mahalaya-meet-kolkata-s-last-radio-man-1722542-2020-09-16\">This Mahalaya, meet Kolkata's last radio man</a></h2><p>As Bengalis across the globe prepare to listen to the iconic radio programme\n",
      "\"Mahisasuramardini\" at dawn on Mahalaya on Thursday, here's the story of a\n",
      "true radio connoisseur from Kolkata.</p></div></div>\n",
      "<div class=\"catagory-listing\"><div class=\"pic\"> <img alt=\"\" data-preview-url=\"\" src=\"https://akm-img-a-in.tosshub.com/indiatoday/images/story/202009/Mughal_Museum_Agra_1200x768-170x96.jpeg?67xIV.XYA4SrDswJnJsmFiLnIpedtBXr\" title=\"\"/></div><div class=\"detail\"><h2 class=\"\" title=\"UP govt's decision to rename Mughal Museum in Agra after Shivaji draws criticism\"><a href=\"/india/story/up-govt-s-decision-to-rename-mughal-museum-in-agra-after-shivaji-draws-criticism-1722537-2020-09-16\">UP govt's decision to rename Mughal Museum in Agra after Shivaji draws criticism</a></h2><p>SP and Congress leaders have slammed CM Yogi Adityanath for renaming Mughal\n",
      "Museum in Agra after Maratha king Chhatrapati Shivaji.</p></div></div>\n",
      "<div class=\"catagory-listing\"><div class=\"pic\"> <img alt=\"\" data-preview-url=\"\" src=\"https://akm-img-a-in.tosshub.com/indiatoday/images/story/202009/AP20258605658089-170x96.jpeg?QkzlPYHNeGbgBp8W1aOCuIIqZmRV7dET\" title=\"Former IAAF president Lamine Diack sentenced to 2 years in prison on corruption charges\"/></div><div class=\"detail\"><h2 class=\"\" title=\"Former IAAF president Lamine Diack sentenced to 2 years in prison on corruption charges\"><a href=\"/sports/other-sports/story/former-iaaf-president-lamine-diack-sentenced-to-2-years-in-prison-on-corruption-charges-1722533-2020-09-16\">Former World Athletics head Lamine Diack jailed for corruption</a></h2><p>Former track federation president Lamine Diack was sentenced Wednesday to two\n",
      "years in prison for corruption during his nearly 16-year tenure at the IAAF.</p></div></div>\n",
      "<div class=\"catagory-listing\"><div class=\"pic\"> <img class=\"lazyloaded\" data-preview-url=\"\" height=\"96\" src=\"https://akm-img-a-in.tosshub.com/indiatoday/images/story/202009/mexico-170x96.png?.mvDYmY53.4OTZp18zFIrAIlYqgbhOuE\" width=\"170\"/></div><div class=\"detail\"><h2 class=\"\" title=\"Mexico holds symbolic raffle for unwanted presidential jet\"><a href=\"/world/story/mexico-holds-symbolic-raffle-for-unwanted-presidential-jet-1722527-2020-09-16\">Mexico holds symbolic raffle for unwanted presidential jet</a></h2><p>Mexico held a symbolic raffle for a luxury presidential jet that President\n",
      "Andres Manuel Lopez Obrador calls an \"insult\" to the people and which has yet\n",
      "to find a buyer.</p></div></div>\n",
      "<div class=\"catagory-listing\"><div class=\"pic\"> <img class=\"lazyloaded\" data-preview-url=\"\" height=\"96\" src=\"https://akm-img-a-in.tosshub.com/indiatoday/images/story/202009/X5KhIT9M_400x400-170x96.jpeg?xdE66GhbbzBqoMls6gCGIlSKb_j4yI6z\" width=\"170\"/></div><div class=\"detail\"><h2 class=\"\" title=\"Young Australian an unlikely target for China's fury\"><a href=\"/world/story/young-australian-an-unlikely-target-for-china-fury-1722525-2020-09-16\">Young Australian an unlikely target for China's fury</a></h2><p>An Australian university student who has never visited China and has only a\n",
      "modest social media following would seem an unlikely target for the Chinese\n",
      "government.</p></div></div>\n",
      "<div class=\"catagory-listing\"><div class=\"pic\"> <img class=\"lazyloaded\" data-preview-url=\"\" height=\"96\" src=\"https://akm-img-a-in.tosshub.com/indiatoday/images/story/202009/Eh8wrURU4AEca5x-170x96.jpeg?fip0sy5uGe2J4MoRJAXdoW7PKKOtDmiu\" width=\"170\"/></div><div class=\"detail\"><h2 class=\"\" title=\"IPL 2020: AB de Villiers ready to help RCB and Virat Kohli with the ball if required\"><a href=\"/sports/ipl-2020/story/ab-de-villiers-ready-to-bowl-for-virat-kohli-royal-challengers-bangalore-ipl-2020-1722526-2020-09-16\">AB de Villiers even ready to bowl if required for Virat Kohli's RCB in IPL 2020</a></h2><p>IPL 2020: AB de Villiers has already told his Royal Challengers Bangalore\n",
      "captain Virat Kohli that he will be ready to even bowl if the need arises.</p></div></div>\n",
      "<div class=\"catagory-listing\"><div class=\"pic\"> <img class=\"lazyloaded\" data-preview-url=\"\" height=\"96\" src=\"https://akm-img-a-in.tosshub.com/indiatoday/images/story/202009/pic-1-170x96.jpeg?BF1v6bgI_QmYqzBItRGNpRAdtJ6XjlZ_\" width=\"170\"/></div><div class=\"detail\"><h2 class=\"\" title=\"Fact Check: Actor's picture shared on social media as doc who died of Covid-19 \"><a href=\"/fact-check/story/fact-check-actor-s-picture-shared-on-social-media-as-doc-who-died-of-covid-19-1722520-2020-09-16\">Fact Check: Actor's picture shared on social media as doc who died of Covid-19 </a></h2><p>A picture of a young woman is circulating on social media with the claim that\n",
      "she is Dr Vidhi, a medical professional from Ahmedabad, who succumbed to\n",
      "Covid-19. India Today Anti Fake News War Room (AFWA) has found that the viral\n",
      "picture is of a South Indian actor and model.</p></div></div>\n",
      "<div class=\"catagory-listing\"><div class=\"pic\"> <img class=\"lazyloaded\" data-preview-url=\"\" height=\"96\" src=\"https://akm-img-a-in.tosshub.com/indiatoday/images/story/202009/giaa-170x96.jpeg?ltjNcwGtOdbLKPQ8m4UobETmxT3uvBcz\" width=\"170\"/></div><div class=\"detail\"><h2 class=\"\" title=\"Original Gopi Bahu Gia Manek is the latest Bigg Boss 14 contestant\"><a href=\"/television/reality-tv/story/original-gopi-bahu-gia-manek-is-the-latest-bigg-boss-14-contestant-1722515-2020-09-16\">Original Gopi Bahu Gia Manek is the latest Bigg Boss 14 contestant</a></h2><p>Television actress Gia Manek of Saath Nibhaana Saathiya fame to participate\n",
      "in Bigg Boss 14.</p></div></div>\n",
      "<div class=\"catagory-listing\"><div class=\"pic\"> <img class=\"lazyloaded\" data-preview-url=\"\" height=\"96\" src=\"https://akm-img-a-in.tosshub.com/indiatoday/images/story/202009/IMG_1133-170x96.jpeg?DGEaoGcS2HK3SzkzNjRQym3VWjzSJ1gP\" width=\"170\"/></div><div class=\"detail\"><h2 class=\"\" title=\"IPL 2020: Won't be too hard for Mumbai Indians to win 5th title, says Sunil Gavaskar\"><a href=\"/sports/ipl-2020/story/sunil-gavaskar-team-preview-mumbai-indians-mi-ipl-2020-1722517-2020-09-16\">Experienced MI have all bases covered for IPL 2020: Sunil Gavaskar</a></h2><p>Sunil Gavaskar pointed out that the experience of playing in the finals and\n",
      "the talent that Mumbai Indians have in their current squad will make them one\n",
      "of the teams to beat in IPL 2020.</p></div></div>\n",
      "<div class=\"catagory-listing\"><div class=\"pic\"> <img class=\"lazyloaded\" data-preview-url=\"\" height=\"96\" src=\"https://akm-img-a-in.tosshub.com/indiatoday/images/story/202009/Scott_Morrison-170x96.jpeg?_yBm9szG_iqkNiGyslPvH2MEzdTS.Fw9\" width=\"170\"/></div><div class=\"detail\"><h2 class=\"\" title=\"Australia doubles down on fossil fuels, firing up critics\"><a href=\"/world/story/australia-doubles-down-on-fossil-fuels-firing-up-critics-1722513-2020-09-16\">Australia doubles down on fossil fuels, firing up critics</a></h2><p>The Australian government's plan for a \"gas-fired recovery\" of its\n",
      "coronavirus-hit economy ignited fears that it would lock in fossil fuel\n",
      "dependence for another generation in a country already ravaged by climate\n",
      "change</p></div></div>\n",
      "<div class=\"catagory-listing\"><div class=\"pic\"> <img class=\"lazyloaded\" data-preview-url=\"\" height=\"96\" src=\"https://akm-img-a-in.tosshub.com/indiatoday/images/story/202009/pmc-bank-reuters-170x96.png?I0EWixZjiQZYn00nhDNMN5sKtAsOw6FN\" width=\"170\"/></div><div class=\"detail\"><h2 class=\"\" title=\"Fraud-hit PMC asked other major banks for merger: Bank tells Delhi HC\"><a href=\"/india/story/fraud-hit-pmc-asked-other-major-banks-for-merger-bank-tells-delhi-hc-1722512-2020-09-16\">Fraud-hit PMC asked other major banks for merger: Bank tells Delhi HC</a></h2><p>PMC has “tried to engage with the major banks of the country to request for\n",
      "a merger”, the bank’s administrator said in a September 10 filing at the\n",
      "Delhi High Court, without identifying the banks or giving other details.</p></div></div>\n",
      "<div class=\"catagory-listing\"><div class=\"pic\"> <img class=\"lazyloaded\" data-preview-url=\"\" height=\"96\" src=\"https://akm-img-a-in.tosshub.com/indiatoday/images/story/202009/download__3__3-170x96.jpeg?gwz2sRKP0pWJiBwpuake9kx3jc7QdfbU\" width=\"170\"/></div><div class=\"detail\"><h2 class=\"\" title=\"Israeli jets bomb Gaza after rocket fire clouds peace deal signing\"><a href=\"/world/story/israeli-jets-bomb-gaza-after-rocket-fire-clouds-peace-deal-signing-1722510-2020-09-16\">Israeli jets bomb Gaza after rocket fire clouds peace deal signing</a></h2><p>Israel bombed Gaza on Wednesday after militants fired rockets through the\n",
      "night, overshadowing the signing of landmark normalisation deals with the\n",
      "United Arab Emirates and Bahrain in Washington.</p></div></div>\n"
     ]
    }
   ],
   "source": [
    "# Source URL\n",
    "\n",
    "URL = \"https://www.indiatoday.in/top-stories\"\n",
    "r = requests.get(URL) \n",
    "   \n",
    "soup = BeautifulSoup(r.content, 'html5lib') \n",
    "\n",
    "   \n",
    "table = soup.find('div', attrs = {'class':'view-content'})  \n",
    "\n",
    "\n",
    "\n",
    "news_list = []\n",
    "\n",
    "# Searching and saving in one div elements\n",
    "for values in table: \n",
    "    print(values)\n",
    "    news_data = {}\n",
    "    \n",
    "    # Extracting from 1st Element\n",
    "    div_element_1 = values.findAll('div', attrs = {'class':'detail'})[0]\n",
    " \n",
    "    news_data['paragraph'] = div_element_1.p.get_text()\n",
    "    news_data['title'] = div_element_1.h2['title']\n",
    "    news_data['link'] = \"https://www.indiatoday.in/\" + div_element_1.h2.a['href']\n",
    "     \n",
    "    # extracting image source \n",
    "    div_element_2 = values.findAll('div', attrs = {'class':'pic'})[0]\n",
    "    \n",
    "    news_data['image_url'] = div_element_2.img[\"src\"]\n",
    "    news_list.append(news_data)\n",
    "    \n"
   ]
  },
  {
   "cell_type": "markdown",
   "metadata": {},
   "source": [
    "# Codes section works fine even with new news are update each day"
   ]
  },
  {
   "cell_type": "code",
   "execution_count": 3,
   "metadata": {},
   "outputs": [
    {
     "data": {
      "text/plain": [
       "[{'paragraph': 'As Bengalis across the globe prepare to listen to the iconic radio programme\\n\"Mahisasuramardini\" at dawn on Mahalaya on Thursday, here\\'s the story of a\\ntrue radio connoisseur from Kolkata.',\n",
       "  'title': \"This Mahalaya, meet Kolkata's last radio man\",\n",
       "  'link': 'https://www.indiatoday.in//india/story/this-mahalaya-meet-kolkata-s-last-radio-man-1722542-2020-09-16',\n",
       "  'image_url': 'https://akm-img-a-in.tosshub.com/indiatoday/images/story/202009/IMG_20200912_124106-170x96.jpeg?zNR2UgTDjslloUF51uUzGWexKOMEMpGl'},\n",
       " {'paragraph': 'SP and Congress leaders have slammed CM Yogi Adityanath for renaming Mughal\\nMuseum in Agra after Maratha king Chhatrapati Shivaji.',\n",
       "  'title': \"UP govt's decision to rename Mughal Museum in Agra after Shivaji draws criticism\",\n",
       "  'link': 'https://www.indiatoday.in//india/story/up-govt-s-decision-to-rename-mughal-museum-in-agra-after-shivaji-draws-criticism-1722537-2020-09-16',\n",
       "  'image_url': 'https://akm-img-a-in.tosshub.com/indiatoday/images/story/202009/Mughal_Museum_Agra_1200x768-170x96.jpeg?67xIV.XYA4SrDswJnJsmFiLnIpedtBXr'},\n",
       " {'paragraph': 'Former track federation president Lamine Diack was sentenced Wednesday to two\\nyears in prison for corruption during his nearly 16-year tenure at the IAAF.',\n",
       "  'title': 'Former IAAF president Lamine Diack sentenced to 2 years in prison on corruption charges',\n",
       "  'link': 'https://www.indiatoday.in//sports/other-sports/story/former-iaaf-president-lamine-diack-sentenced-to-2-years-in-prison-on-corruption-charges-1722533-2020-09-16',\n",
       "  'image_url': 'https://akm-img-a-in.tosshub.com/indiatoday/images/story/202009/AP20258605658089-170x96.jpeg?QkzlPYHNeGbgBp8W1aOCuIIqZmRV7dET'},\n",
       " {'paragraph': 'Mexico held a symbolic raffle for a luxury presidential jet that President\\nAndres Manuel Lopez Obrador calls an \"insult\" to the people and which has yet\\nto find a buyer.',\n",
       "  'title': 'Mexico holds symbolic raffle for unwanted presidential jet',\n",
       "  'link': 'https://www.indiatoday.in//world/story/mexico-holds-symbolic-raffle-for-unwanted-presidential-jet-1722527-2020-09-16',\n",
       "  'image_url': 'https://akm-img-a-in.tosshub.com/indiatoday/images/story/202009/mexico-170x96.png?.mvDYmY53.4OTZp18zFIrAIlYqgbhOuE'},\n",
       " {'paragraph': 'An Australian university student who has never visited China and has only a\\nmodest social media following would seem an unlikely target for the Chinese\\ngovernment.',\n",
       "  'title': \"Young Australian an unlikely target for China's fury\",\n",
       "  'link': 'https://www.indiatoday.in//world/story/young-australian-an-unlikely-target-for-china-fury-1722525-2020-09-16',\n",
       "  'image_url': 'https://akm-img-a-in.tosshub.com/indiatoday/images/story/202009/X5KhIT9M_400x400-170x96.jpeg?xdE66GhbbzBqoMls6gCGIlSKb_j4yI6z'},\n",
       " {'paragraph': 'IPL 2020: AB de Villiers has already told his Royal Challengers Bangalore\\ncaptain Virat Kohli that he will be ready to even bowl if the need arises.',\n",
       "  'title': 'IPL 2020: AB de Villiers ready to help RCB and Virat Kohli with the ball if required',\n",
       "  'link': 'https://www.indiatoday.in//sports/ipl-2020/story/ab-de-villiers-ready-to-bowl-for-virat-kohli-royal-challengers-bangalore-ipl-2020-1722526-2020-09-16',\n",
       "  'image_url': 'https://akm-img-a-in.tosshub.com/indiatoday/images/story/202009/Eh8wrURU4AEca5x-170x96.jpeg?fip0sy5uGe2J4MoRJAXdoW7PKKOtDmiu'},\n",
       " {'paragraph': 'A picture of a young woman is circulating on social media with the claim that\\nshe is Dr Vidhi, a medical professional from Ahmedabad, who succumbed to\\nCovid-19. India Today Anti Fake News War Room (AFWA) has found that the viral\\npicture is of a South Indian actor and model.',\n",
       "  'title': \"Fact Check: Actor's picture shared on social media as doc who died of Covid-19 \",\n",
       "  'link': 'https://www.indiatoday.in//fact-check/story/fact-check-actor-s-picture-shared-on-social-media-as-doc-who-died-of-covid-19-1722520-2020-09-16',\n",
       "  'image_url': 'https://akm-img-a-in.tosshub.com/indiatoday/images/story/202009/pic-1-170x96.jpeg?BF1v6bgI_QmYqzBItRGNpRAdtJ6XjlZ_'},\n",
       " {'paragraph': 'Television actress Gia Manek of Saath Nibhaana Saathiya fame to participate\\nin Bigg Boss 14.',\n",
       "  'title': 'Original Gopi Bahu Gia Manek is the latest Bigg Boss 14 contestant',\n",
       "  'link': 'https://www.indiatoday.in//television/reality-tv/story/original-gopi-bahu-gia-manek-is-the-latest-bigg-boss-14-contestant-1722515-2020-09-16',\n",
       "  'image_url': 'https://akm-img-a-in.tosshub.com/indiatoday/images/story/202009/giaa-170x96.jpeg?ltjNcwGtOdbLKPQ8m4UobETmxT3uvBcz'},\n",
       " {'paragraph': 'Sunil Gavaskar pointed out that the experience of playing in the finals and\\nthe talent that Mumbai Indians have in their current squad will make them one\\nof the teams to beat in IPL 2020.',\n",
       "  'title': \"IPL 2020: Won't be too hard for Mumbai Indians to win 5th title, says Sunil Gavaskar\",\n",
       "  'link': 'https://www.indiatoday.in//sports/ipl-2020/story/sunil-gavaskar-team-preview-mumbai-indians-mi-ipl-2020-1722517-2020-09-16',\n",
       "  'image_url': 'https://akm-img-a-in.tosshub.com/indiatoday/images/story/202009/IMG_1133-170x96.jpeg?DGEaoGcS2HK3SzkzNjRQym3VWjzSJ1gP'},\n",
       " {'paragraph': 'The Australian government\\'s plan for a \"gas-fired recovery\" of its\\ncoronavirus-hit economy ignited fears that it would lock in fossil fuel\\ndependence for another generation in a country already ravaged by climate\\nchange',\n",
       "  'title': 'Australia doubles down on fossil fuels, firing up critics',\n",
       "  'link': 'https://www.indiatoday.in//world/story/australia-doubles-down-on-fossil-fuels-firing-up-critics-1722513-2020-09-16',\n",
       "  'image_url': 'https://akm-img-a-in.tosshub.com/indiatoday/images/story/202009/Scott_Morrison-170x96.jpeg?_yBm9szG_iqkNiGyslPvH2MEzdTS.Fw9'},\n",
       " {'paragraph': 'PMC has “tried to engage with the major banks of the country to request for\\na merger”, the bank’s administrator said in a September 10 filing at the\\nDelhi High Court, without identifying the banks or giving other details.',\n",
       "  'title': 'Fraud-hit PMC asked other major banks for merger: Bank tells Delhi HC',\n",
       "  'link': 'https://www.indiatoday.in//india/story/fraud-hit-pmc-asked-other-major-banks-for-merger-bank-tells-delhi-hc-1722512-2020-09-16',\n",
       "  'image_url': 'https://akm-img-a-in.tosshub.com/indiatoday/images/story/202009/pmc-bank-reuters-170x96.png?I0EWixZjiQZYn00nhDNMN5sKtAsOw6FN'},\n",
       " {'paragraph': 'Israel bombed Gaza on Wednesday after militants fired rockets through the\\nnight, overshadowing the signing of landmark normalisation deals with the\\nUnited Arab Emirates and Bahrain in Washington.',\n",
       "  'title': 'Israeli jets bomb Gaza after rocket fire clouds peace deal signing',\n",
       "  'link': 'https://www.indiatoday.in//world/story/israeli-jets-bomb-gaza-after-rocket-fire-clouds-peace-deal-signing-1722510-2020-09-16',\n",
       "  'image_url': 'https://akm-img-a-in.tosshub.com/indiatoday/images/story/202009/download__3__3-170x96.jpeg?gwz2sRKP0pWJiBwpuake9kx3jc7QdfbU'}]"
      ]
     },
     "execution_count": 3,
     "metadata": {},
     "output_type": "execute_result"
    }
   ],
   "source": [
    "news_list"
   ]
  },
  {
   "cell_type": "code",
   "execution_count": 4,
   "metadata": {},
   "outputs": [
    {
     "data": {
      "text/plain": [
       "12"
      ]
     },
     "execution_count": 4,
     "metadata": {},
     "output_type": "execute_result"
    }
   ],
   "source": [
    "len(news_list)"
   ]
  },
  {
   "cell_type": "code",
   "execution_count": 5,
   "metadata": {},
   "outputs": [],
   "source": [
    "# Saving the news section into csv "
   ]
  },
  {
   "cell_type": "code",
   "execution_count": 6,
   "metadata": {},
   "outputs": [],
   "source": [
    "filename = 'new_list.csv'\n",
    "with open(filename, 'w', newline='') as f: \n",
    "    w = csv.DictWriter(f,['paragraph','title','link','image_url']) \n",
    "    w.writeheader() \n",
    "    for news in news_list: \n",
    "        w.writerow(news)"
   ]
  },
  {
   "cell_type": "code",
   "execution_count": null,
   "metadata": {},
   "outputs": [],
   "source": []
  },
  {
   "cell_type": "markdown",
   "metadata": {},
   "source": [
    "# Converting each news sections into pdf"
   ]
  },
  {
   "cell_type": "code",
   "execution_count": 7,
   "metadata": {},
   "outputs": [],
   "source": [
    "news_df = pd.read_csv('new_list.csv', encoding='cp1252')"
   ]
  },
  {
   "cell_type": "code",
   "execution_count": 8,
   "metadata": {},
   "outputs": [
    {
     "data": {
      "text/html": [
       "<div>\n",
       "<style scoped>\n",
       "    .dataframe tbody tr th:only-of-type {\n",
       "        vertical-align: middle;\n",
       "    }\n",
       "\n",
       "    .dataframe tbody tr th {\n",
       "        vertical-align: top;\n",
       "    }\n",
       "\n",
       "    .dataframe thead th {\n",
       "        text-align: right;\n",
       "    }\n",
       "</style>\n",
       "<table border=\"1\" class=\"dataframe\">\n",
       "  <thead>\n",
       "    <tr style=\"text-align: right;\">\n",
       "      <th></th>\n",
       "      <th>paragraph</th>\n",
       "      <th>title</th>\n",
       "      <th>link</th>\n",
       "      <th>image_url</th>\n",
       "    </tr>\n",
       "  </thead>\n",
       "  <tbody>\n",
       "    <tr>\n",
       "      <th>0</th>\n",
       "      <td>As Bengalis across the globe prepare to listen...</td>\n",
       "      <td>This Mahalaya, meet Kolkata's last radio man</td>\n",
       "      <td>https://www.indiatoday.in//india/story/this-ma...</td>\n",
       "      <td>https://akm-img-a-in.tosshub.com/indiatoday/im...</td>\n",
       "    </tr>\n",
       "    <tr>\n",
       "      <th>1</th>\n",
       "      <td>SP and Congress leaders have slammed CM Yogi A...</td>\n",
       "      <td>UP govt's decision to rename Mughal Museum in ...</td>\n",
       "      <td>https://www.indiatoday.in//india/story/up-govt...</td>\n",
       "      <td>https://akm-img-a-in.tosshub.com/indiatoday/im...</td>\n",
       "    </tr>\n",
       "    <tr>\n",
       "      <th>2</th>\n",
       "      <td>Former track federation president Lamine Diack...</td>\n",
       "      <td>Former IAAF president Lamine Diack sentenced t...</td>\n",
       "      <td>https://www.indiatoday.in//sports/other-sports...</td>\n",
       "      <td>https://akm-img-a-in.tosshub.com/indiatoday/im...</td>\n",
       "    </tr>\n",
       "    <tr>\n",
       "      <th>3</th>\n",
       "      <td>Mexico held a symbolic raffle for a luxury pre...</td>\n",
       "      <td>Mexico holds symbolic raffle for unwanted pres...</td>\n",
       "      <td>https://www.indiatoday.in//world/story/mexico-...</td>\n",
       "      <td>https://akm-img-a-in.tosshub.com/indiatoday/im...</td>\n",
       "    </tr>\n",
       "    <tr>\n",
       "      <th>4</th>\n",
       "      <td>An Australian university student who has never...</td>\n",
       "      <td>Young Australian an unlikely target for China'...</td>\n",
       "      <td>https://www.indiatoday.in//world/story/young-a...</td>\n",
       "      <td>https://akm-img-a-in.tosshub.com/indiatoday/im...</td>\n",
       "    </tr>\n",
       "    <tr>\n",
       "      <th>5</th>\n",
       "      <td>IPL 2020: AB de Villiers has already told his ...</td>\n",
       "      <td>IPL 2020: AB de Villiers ready to help RCB and...</td>\n",
       "      <td>https://www.indiatoday.in//sports/ipl-2020/sto...</td>\n",
       "      <td>https://akm-img-a-in.tosshub.com/indiatoday/im...</td>\n",
       "    </tr>\n",
       "    <tr>\n",
       "      <th>6</th>\n",
       "      <td>A picture of a young woman is circulating on s...</td>\n",
       "      <td>Fact Check: Actor's picture shared on social m...</td>\n",
       "      <td>https://www.indiatoday.in//fact-check/story/fa...</td>\n",
       "      <td>https://akm-img-a-in.tosshub.com/indiatoday/im...</td>\n",
       "    </tr>\n",
       "    <tr>\n",
       "      <th>7</th>\n",
       "      <td>Television actress Gia Manek of Saath Nibhaana...</td>\n",
       "      <td>Original Gopi Bahu Gia Manek is the latest Big...</td>\n",
       "      <td>https://www.indiatoday.in//television/reality-...</td>\n",
       "      <td>https://akm-img-a-in.tosshub.com/indiatoday/im...</td>\n",
       "    </tr>\n",
       "    <tr>\n",
       "      <th>8</th>\n",
       "      <td>Sunil Gavaskar pointed out that the experience...</td>\n",
       "      <td>IPL 2020: Won't be too hard for Mumbai Indians...</td>\n",
       "      <td>https://www.indiatoday.in//sports/ipl-2020/sto...</td>\n",
       "      <td>https://akm-img-a-in.tosshub.com/indiatoday/im...</td>\n",
       "    </tr>\n",
       "    <tr>\n",
       "      <th>9</th>\n",
       "      <td>The Australian government's plan for a \"gas-fi...</td>\n",
       "      <td>Australia doubles down on fossil fuels, firing...</td>\n",
       "      <td>https://www.indiatoday.in//world/story/austral...</td>\n",
       "      <td>https://akm-img-a-in.tosshub.com/indiatoday/im...</td>\n",
       "    </tr>\n",
       "    <tr>\n",
       "      <th>10</th>\n",
       "      <td>PMC has “tried to engage with the major banks ...</td>\n",
       "      <td>Fraud-hit PMC asked other major banks for merg...</td>\n",
       "      <td>https://www.indiatoday.in//india/story/fraud-h...</td>\n",
       "      <td>https://akm-img-a-in.tosshub.com/indiatoday/im...</td>\n",
       "    </tr>\n",
       "    <tr>\n",
       "      <th>11</th>\n",
       "      <td>Israel bombed Gaza on Wednesday after militant...</td>\n",
       "      <td>Israeli jets bomb Gaza after rocket fire cloud...</td>\n",
       "      <td>https://www.indiatoday.in//world/story/israeli...</td>\n",
       "      <td>https://akm-img-a-in.tosshub.com/indiatoday/im...</td>\n",
       "    </tr>\n",
       "  </tbody>\n",
       "</table>\n",
       "</div>"
      ],
      "text/plain": [
       "                                            paragraph  \\\n",
       "0   As Bengalis across the globe prepare to listen...   \n",
       "1   SP and Congress leaders have slammed CM Yogi A...   \n",
       "2   Former track federation president Lamine Diack...   \n",
       "3   Mexico held a symbolic raffle for a luxury pre...   \n",
       "4   An Australian university student who has never...   \n",
       "5   IPL 2020: AB de Villiers has already told his ...   \n",
       "6   A picture of a young woman is circulating on s...   \n",
       "7   Television actress Gia Manek of Saath Nibhaana...   \n",
       "8   Sunil Gavaskar pointed out that the experience...   \n",
       "9   The Australian government's plan for a \"gas-fi...   \n",
       "10  PMC has “tried to engage with the major banks ...   \n",
       "11  Israel bombed Gaza on Wednesday after militant...   \n",
       "\n",
       "                                                title  \\\n",
       "0        This Mahalaya, meet Kolkata's last radio man   \n",
       "1   UP govt's decision to rename Mughal Museum in ...   \n",
       "2   Former IAAF president Lamine Diack sentenced t...   \n",
       "3   Mexico holds symbolic raffle for unwanted pres...   \n",
       "4   Young Australian an unlikely target for China'...   \n",
       "5   IPL 2020: AB de Villiers ready to help RCB and...   \n",
       "6   Fact Check: Actor's picture shared on social m...   \n",
       "7   Original Gopi Bahu Gia Manek is the latest Big...   \n",
       "8   IPL 2020: Won't be too hard for Mumbai Indians...   \n",
       "9   Australia doubles down on fossil fuels, firing...   \n",
       "10  Fraud-hit PMC asked other major banks for merg...   \n",
       "11  Israeli jets bomb Gaza after rocket fire cloud...   \n",
       "\n",
       "                                                 link  \\\n",
       "0   https://www.indiatoday.in//india/story/this-ma...   \n",
       "1   https://www.indiatoday.in//india/story/up-govt...   \n",
       "2   https://www.indiatoday.in//sports/other-sports...   \n",
       "3   https://www.indiatoday.in//world/story/mexico-...   \n",
       "4   https://www.indiatoday.in//world/story/young-a...   \n",
       "5   https://www.indiatoday.in//sports/ipl-2020/sto...   \n",
       "6   https://www.indiatoday.in//fact-check/story/fa...   \n",
       "7   https://www.indiatoday.in//television/reality-...   \n",
       "8   https://www.indiatoday.in//sports/ipl-2020/sto...   \n",
       "9   https://www.indiatoday.in//world/story/austral...   \n",
       "10  https://www.indiatoday.in//india/story/fraud-h...   \n",
       "11  https://www.indiatoday.in//world/story/israeli...   \n",
       "\n",
       "                                            image_url  \n",
       "0   https://akm-img-a-in.tosshub.com/indiatoday/im...  \n",
       "1   https://akm-img-a-in.tosshub.com/indiatoday/im...  \n",
       "2   https://akm-img-a-in.tosshub.com/indiatoday/im...  \n",
       "3   https://akm-img-a-in.tosshub.com/indiatoday/im...  \n",
       "4   https://akm-img-a-in.tosshub.com/indiatoday/im...  \n",
       "5   https://akm-img-a-in.tosshub.com/indiatoday/im...  \n",
       "6   https://akm-img-a-in.tosshub.com/indiatoday/im...  \n",
       "7   https://akm-img-a-in.tosshub.com/indiatoday/im...  \n",
       "8   https://akm-img-a-in.tosshub.com/indiatoday/im...  \n",
       "9   https://akm-img-a-in.tosshub.com/indiatoday/im...  \n",
       "10  https://akm-img-a-in.tosshub.com/indiatoday/im...  \n",
       "11  https://akm-img-a-in.tosshub.com/indiatoday/im...  "
      ]
     },
     "execution_count": 8,
     "metadata": {},
     "output_type": "execute_result"
    }
   ],
   "source": [
    "news_df"
   ]
  },
  {
   "cell_type": "code",
   "execution_count": 9,
   "metadata": {},
   "outputs": [],
   "source": [
    "import pdfkit"
   ]
  },
  {
   "cell_type": "code",
   "execution_count": 10,
   "metadata": {},
   "outputs": [],
   "source": [
    "# Generating PDF from Data\n",
    "\n",
    "def generate_pdf(df):\n",
    "    \n",
    "    for i in range(len(df)):\n",
    "        \n",
    "        \n",
    "        r = requests.get(news_df['link'][i]) \n",
    "\n",
    "        soup = BeautifulSoup(r.content, 'html5lib') \n",
    "\n",
    "\n",
    "        table = soup.find('div', attrs = {'class':'description'})  \n",
    "\n",
    "        p = \"\"\n",
    "\n",
    "        for a in table.findAll('p'):\n",
    "            p = p + str(a.get_text())\n",
    "\n",
    "\n",
    "            \n",
    "        pd.set_option('colheader_justify', 'center')   # FOR TABLE <th>\n",
    "\n",
    "        html_string = '''\n",
    "        <html>\n",
    "          <head><title>News Headline</title>\n",
    "          <h2> ''' + str(df['title'][i])+''' </h2>\n",
    "          </head>\n",
    "          <body>\n",
    "             <img src= \"''' + str(df['image_url'][i]) + '''\" width=\"400\" height=\"200\">\n",
    "             <p> '''+ str(df['paragraph'][i])  + '''</p>  \n",
    "             <p>''' + str(p)  +''' </p>\n",
    "             <p> </p>\n",
    "             <a href= '''+ str(news_df['link'][i]) +'''> <b> Original Source of news </b> </a>\n",
    "          </body>\n",
    "        </html>.\n",
    "        '''\n",
    "     \n",
    "        \n",
    " \n",
    "        # OUTPUT AN HTML FILE\n",
    "        with open('myhtml.html', 'w') as f:\n",
    "            f.write(html_string.format(table=news_df.to_html(classes='mystyle')))\n",
    "        pdf_file_name = 'news_'+ str(i) + '.pdf'\n",
    "        \n",
    "        options = {\n",
    "         'page-size': 'Letter',\n",
    "         'margin-top': '0.75in',\n",
    "         'margin-right': '0.75in',\n",
    "         'margin-bottom': '0.75in',\n",
    "         'margin-left': '0.75in',\n",
    "         'encoding': \"UTF-8\",\n",
    "         'no-outline': None,\n",
    "          'orientation':'Portrait'  \n",
    "         } \n",
    "        pdfkit.from_url('myhtml.html',pdf_file_name ,options=options)\n",
    "    \n",
    "    \n",
    "    "
   ]
  },
  {
   "cell_type": "code",
   "execution_count": 11,
   "metadata": {},
   "outputs": [
    {
     "name": "stdout",
     "output_type": "stream",
     "text": [
      "Loading pages (1/6)\r\n",
      "[>                                                           ] 0%\r",
      "[======>                                                     ] 10%\r",
      "[==========>                                                 ] 17%\r",
      "[===========>                                                ] 19%\r",
      "[========================>                                   ] 41%\r",
      "[============================================================] 100%\r",
      "Counting pages (2/6)                                               \r\n",
      "[============================================================] Object 1 of 1\r",
      "Resolving links (4/6)                                                       \r\n",
      "[============================================================] Object 1 of 1\r",
      "Loading headers and footers (5/6)                                           \r\n",
      "Printing pages (6/6)\r\n",
      "[>                                                           ] Preparing\r",
      "[============================================================] Page 1 of 1\r",
      "Done                                                                      \r\n"
     ]
    }
   ],
   "source": [
    "generate_pdf(news_df[:1])"
   ]
  },
  {
   "cell_type": "code",
   "execution_count": null,
   "metadata": {},
   "outputs": [],
   "source": []
  },
  {
   "cell_type": "code",
   "execution_count": null,
   "metadata": {},
   "outputs": [],
   "source": []
  },
  {
   "cell_type": "code",
   "execution_count": null,
   "metadata": {},
   "outputs": [],
   "source": []
  },
  {
   "cell_type": "code",
   "execution_count": null,
   "metadata": {},
   "outputs": [],
   "source": []
  },
  {
   "cell_type": "code",
   "execution_count": null,
   "metadata": {},
   "outputs": [],
   "source": []
  },
  {
   "cell_type": "code",
   "execution_count": null,
   "metadata": {},
   "outputs": [],
   "source": []
  },
  {
   "cell_type": "code",
   "execution_count": null,
   "metadata": {},
   "outputs": [],
   "source": []
  },
  {
   "cell_type": "code",
   "execution_count": null,
   "metadata": {},
   "outputs": [],
   "source": []
  }
 ],
 "metadata": {
  "kernelspec": {
   "display_name": "Python 3",
   "language": "python",
   "name": "python3"
  },
  "language_info": {
   "codemirror_mode": {
    "name": "ipython",
    "version": 3
   },
   "file_extension": ".py",
   "mimetype": "text/x-python",
   "name": "python",
   "nbconvert_exporter": "python",
   "pygments_lexer": "ipython3",
   "version": "3.6.5"
  }
 },
 "nbformat": 4,
 "nbformat_minor": 4
}
