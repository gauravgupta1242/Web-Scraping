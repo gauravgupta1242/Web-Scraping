{
 "cells": [
  {
   "cell_type": "markdown",
   "metadata": {},
   "source": [
    "# Web Scraping Using Beautiful Soup and html5lib"
   ]
  },
  {
   "cell_type": "markdown",
   "metadata": {},
   "source": [
    "## Scraping a news channel and converting the data into excel /csv and Each news section into a pdf file"
   ]
  },
  {
   "cell_type": "code",
   "execution_count": 1,
   "metadata": {},
   "outputs": [],
   "source": [
    "import pandas as pd\n",
    "import requests \n",
    "from bs4 import BeautifulSoup \n",
    "import csv "
   ]
  },
  {
   "cell_type": "markdown",
   "metadata": {},
   "source": [
    "# extracting all data source from each news section"
   ]
  },
  {
   "cell_type": "code",
   "execution_count": 2,
   "metadata": {},
   "outputs": [
    {
     "name": "stdout",
     "output_type": "stream",
     "text": [
      "<div class=\"catagory-listing\"><div class=\"pic\"> <img alt=\"Serena Williams. (AP Photo)\" data-preview-url=\"\" src=\"https://akm-img-a-in.tosshub.com/indiatoday/images/story/202009/AP20255130572922-170x96.jpeg?0FIdHVL305kOdN4xUbCwXcAVsKlQpaKn\" title=\"\"/></div><div class=\"detail\"><h2 class=\"\" title=\"Serena Williams withdraws from Italian Open due to Achilles injury\"><a href=\"/sports/tennis/story/serena-williams-withdraws-from-italian-open-with-achilles-injury-1721259-2020-09-12\">Serena Williams out of Italian Open with Achilles problem</a></h2><p>Serena Williams has pulled out of the Italian Open starting on Monday due to\n",
      "an Achilles injury, the former world number one confirmed on Saturday.</p></div></div>\n",
      "<div class=\"catagory-listing\"><div class=\"pic\"> <img alt=\"Arsenal’s Alexandre Lacazette\" data-preview-url=\"\" src=\"https://akm-img-a-in.tosshub.com/indiatoday/images/story/202009/Lacazette_0-170x96.jpeg?816uf9bBe4H26LrMsCEbMMGiXhRGa8zl\" title=\"Premier League: Arsenal have big ambitions this season, says striker Alexandre Lacazette after first win\"/></div><div class=\"detail\"><h2 class=\"\" title=\"Premier League: Arsenal have big ambitions this season, says striker Alexandre Lacazette after first win\"><a href=\"/sports/football/story/arsenal-alexandre-lacazette-mikel-arteta-the-gunners-premier-league-1721257-2020-09-12\">Arsenal have big ambitions this season, says striker Alexandre Lacazette</a></h2><p>Arsenal striker Alexandre Lacazette said that he is happy at the club and\n",
      "wants his team to be at the top, after The Gunners started their campaign\n",
      "with a win over Fulham</p></div></div>\n",
      "<div class=\"catagory-listing\"><div class=\"pic\"> <img alt=\"Jofra Archer suffered racial abuse once again. (Reuters Photo)\" data-preview-url=\"\" src=\"https://akm-img-a-in.tosshub.com/indiatoday/images/story/202009/2020-09-11T140241Z_868538504_R-170x96.png?JP0N6P1AhOgGVte1RFiQ6d.RHcCvxbKP\" title=\"\"/></div><div class=\"detail\"><h2 class=\"\" title=\"Are you wearing a stolen watch? Jofra Archer hits back at troller after getting racially abused \"><a href=\"/sports/cricket/story/jofra-archer-suffers-racial-abuse-on-instagram-after-england-odi-1721256-2020-09-12\">Jofra Archer asks fans to report social media troll's account for spreading hate</a></h2><p>England pacer Jofra Archer has received plenty of offensive comments on\n",
      "social media in recent months and a recent one was after England's defeat\n",
      "against Australia in 1st ODI.</p></div></div>\n",
      "<div class=\"catagory-listing\"><div class=\"pic\"> <img class=\"lazyloaded\" data-preview-url=\"\" height=\"96\" src=\"https://akm-img-a-in.tosshub.com/indiatoday/images/story/202009/arunachal_reuters-170x96.jpeg?bToVSMFGG0.3d1ATrK2Bs8sqmlRGNaTP\" width=\"170\"/></div><div class=\"detail\"><h2 class=\"\" title=\"Is China planning to stoke an insurgency in Arunachal Pradesh? \"><a href=\"/news-analysis/story/is-china-planning-to-stoke-an-insurgency-in-arunachal-pradesh-1721254-2020-09-12\">Is China planning to stoke an insurgency in Arunachal? </a></h2><p>China's honey-trapping tactics are nothing new. The PLA is known to threaten\n",
      "Tibetan women to force themselves on Indians, especially army personnel. That\n",
      "the border areas in Arunachal Pradesh are porous and unfenced makes it easier\n",
      "for PLA and Chinese intelligence agencies to indulge in such illegal\n",
      "activities. </p></div></div>\n",
      "<div class=\"catagory-listing\"><div class=\"pic\"> <img class=\"lazyloaded\" data-preview-url=\"\" height=\"96\" src=\"https://akm-img-a-in.tosshub.com/indiatoday/images/story/202009/Devendra_Fadnavis__PTI_-170x96.jpeg?duACvHoEeTZPF3Pjsu.AT6vUWiI9Q_36\" width=\"170\"/></div><div class=\"detail\"><h2 class=\"\" title=\"Attack on retd Naval officer 'state-sponsored terrorism', says Devendra Fadnavis\"><a href=\"/india/story/attack-on-retd-naval-officer-state-sponsored-terrorism-says-devendra-fadnavis-1721250-2020-09-12\">Attack on retd Naval officer 'state-sponsored terrorism', says Fadnavis</a></h2><p>\"I call upon the Chief Minister (Uddhav Thackeray) to stop this gunda raj,\"\n",
      "former Maharashtra CM Devendra Fadnavis said in response to the attack on\n",
      "retired Naval officer Madan Sharma by Shiv Sena workers.</p></div></div>\n",
      "<div class=\"catagory-listing\"><div class=\"pic\"> <img class=\"lazyloaded\" data-preview-url=\"\" height=\"96\" src=\"https://akm-img-a-in.tosshub.com/indiatoday/images/story/202009/pjimage__2_-170x96.jpeg?_TSz6sqEqzr9MVtusghXn_MxzTIpeIRK\" width=\"170\"/></div><div class=\"detail\"><h2 class=\"\" title=\"US Open 2020 women's Singles Final Live Streaming: Naomi Osaka vs Victoria Azarenka\"><a href=\"/sports/tennis/story/us-open-2020-womens-tennis-final-live-streaming-telecast-when-where-how-to-watch-1721249-2020-09-12\">US Open 2020 Women's Final Osaka vs Azarenka: When and Where to Watch </a></h2><p>US Open 2020 Women's Singles Final Live Streaming: Naomi Osaka and Victoria\n",
      "Azarenka will take centre stage at the Arthur Ashe stadium in the final of US\n",
      "Open.</p></div></div>\n",
      "<div class=\"catagory-listing\"><div class=\"pic\"> <img class=\"lazyloaded\" data-preview-url=\"\" height=\"96\" src=\"https://akm-img-a-in.tosshub.com/indiatoday/images/story/202009/Virat_Kohli_RCB_team_Twitter-170x96.jpeg?oQKi3UTO04gfWvZcMxtTOz46aorbQYbH\" width=\"170\"/></div><div class=\"detail\"><h2 class=\"\" title=\"IPL 2020: When you are having fun, each moment becomes magical, says RCB skipper Virat Kohli\"><a href=\"/sports/cricket/story/virat-kohli-royal-challengers-bangalore-ipl-2020-indian-premier-league-ab-de-villiers-1721248-2020-09-12\">IPL 2020: Smiles all around at RCB camp in Virat Kohli’s training photo</a></h2><p>The Virat Kohli-led Royal Challengers Bangalore, who have not yet won an IPL\n",
      "title, will be starting their IPL 2020 campaign against Sunrisers Hyderabad\n",
      "on September 21</p></div></div>\n",
      "<div class=\"catagory-listing\"><div class=\"pic\"> <img class=\"lazyloaded\" data-preview-url=\"\" height=\"96\" src=\"https://akm-img-a-in.tosshub.com/indiatoday/images/story/202009/AstraZeneca_vaccine-170x96.jpeg?674Fgv5uRJxXL3i772T0HJkgAOpWdXb2\" width=\"170\"/></div><div class=\"detail\"><h2 class=\"\" title=\"Oxford, AstraZeneca resume clinical trials of Covid-19 vaccine in UK\"><a href=\"/coronavirus-outbreak/story/oxford-astrazeneca-resume-clinical-trials-of-covid-19-vaccine-in-uk-1721246-2020-09-12\">Oxford, AstraZeneca resume clinical trials of Covid-19 vaccine in UK</a></h2><p>\"In large trials such as this, it is expected that some participants will\n",
      "become unwell,\" the University of Oxford said after an individual who\n",
      "received its Covid-19 vaccine, created in partnership with AstraZeneca,\n",
      "developed signs of a spinal disorder.</p></div></div>\n",
      "<div class=\"catagory-listing\"><div class=\"pic\"> <img class=\"lazyloaded\" data-preview-url=\"\" height=\"96\" src=\"https://akm-img-a-in.tosshub.com/indiatoday/images/story/202009/2020-09-12T125432Z_832284126_U-170x96.png?GG4XEaelSYn.wKuBxkt6fU5rv78eAF8J\" width=\"170\"/></div><div class=\"detail\"><h2 class=\"\" title=\"Willian, Gabriel star on debut as Arsenal thrash hapless Fulham in season opener\"><a href=\"/sports/football/story/willian-gabriel-arsenal-beat-fulham-3-0-season-opener-1721243-2020-09-12\">Willian and Gabriel hit the ground running as Arsenal beat Fulham 3-0</a></h2><p>Arsenal made a convincing start to the new Premier League season as debutants\n",
      "Willian and Gabriel impressed in a 3-0 win at Fulham.</p></div></div>\n",
      "<div class=\"catagory-listing\"><div class=\"pic\"> <img class=\"lazyloaded\" data-preview-url=\"\" height=\"96\" src=\"https://akm-img-a-in.tosshub.com/indiatoday/images/story/202009/Gurudwara-170x96.jpeg?o9i.MgNIkbhBsjPmLXp2SYda80uC.iyL\" width=\"170\"/></div><div class=\"detail\"><h2 class=\"\" title=\"The vanishing art of critical reading in Sikh theological space\"><a href=\"/news-analysis/story/vanishing-art-critical-reading-sikh-theological-space-1721244-2020-09-12\">The vanishing art of critical reading in Sikh theological space</a></h2><p>The issue centred around a series of discourses a historical gurdwara in\n",
      "Delhi hosted over what is called the Dasam Granth, the collective writings\n",
      "attributed to Guru Gobind Singh.</p></div></div>\n",
      "<div class=\"catagory-listing\"><div class=\"pic\"> <img class=\"lazyloaded\" data-preview-url=\"\" height=\"96\" src=\"https://akm-img-a-in.tosshub.com/indiatoday/images/story/202009/DrzVSTQXcAALA_Y-170x96.jpeg?VjEjkEbknS1kknK_mwOTS9iR4.4B.IIM\" width=\"170\"/></div><div class=\"detail\"><h2 class=\"\" title=\"‘Next Stop Dubai’: USA Cricket’s globetrotter Ali Khan sets foot on unique IPL dream\"><a href=\"/sports/ipl-2020/story/ipl-2020-ali-khan-usa-kkr-harry-gurney-1721234-2020-09-12\">USA Cricket’s Ali Khan clocks up to speed of novel IPL dream</a></h2><p>USA Cricket’s fast bowler Ali Khan, of Trinbago Knight Riders fame, has\n",
      "been roped in by the Kolkata Knight Riders for the 2020 edition of the Indian\n",
      "Premier League. </p></div></div>\n",
      "<div class=\"catagory-listing\"><div class=\"pic\"> <img class=\"lazyloaded\" data-preview-url=\"\" height=\"96\" src=\"https://akm-img-a-in.tosshub.com/indiatoday/images/story/202009/Munaf_Patel_reuters1-170x96.jpeg?9xRRz4unbqG6bh1g4SDRt3Ap14CMmvgP\" width=\"170\"/></div><div class=\"detail\"><h2 class=\"\" title=\"Lanka Premier League: Munaf Patel, Daren Sammy, Chris Gayle among overseas players to take part in auction\"><a href=\"/sports/cricket/story/munaf-patel-lanka-premier-league-sri-lanka-cricket-mumbai-indians-2011-world-cup-1721236-2020-09-12\">Munaf Patel to take part in Lanka Premier League auction on October 1</a></h2><p>India's Munaf Patel will be going under the hammer for the inaugural Lanka\n",
      "Premier League that is scheduled to take place between November 14 and\n",
      "December 6</p></div></div>\n"
     ]
    }
   ],
   "source": [
    "\n",
    "URL = \"https://www.indiatoday.in/top-stories\"\n",
    "r = requests.get(URL) \n",
    "   \n",
    "soup = BeautifulSoup(r.content, 'html5lib') \n",
    "\n",
    "   \n",
    "table = soup.find('div', attrs = {'class':'view-content'})  \n",
    "\n",
    "\n",
    "\n",
    "news_list = []\n",
    "\n",
    "# Searching and saving in one div elements\n",
    "for values in table: \n",
    "    print(values)\n",
    "    news_data = {}\n",
    "    \n",
    "    # Extracting from 1st Element\n",
    "    div_element_1 = values.findAll('div', attrs = {'class':'detail'})[0]\n",
    " \n",
    "    news_data['paragraph'] = div_element_1.p.get_text()\n",
    "    news_data['title'] = div_element_1.h2['title']\n",
    "    news_data['link'] = \"https://www.indiatoday.in/\" + div_element_1.h2.a['href']\n",
    "     \n",
    "    # extracting image source \n",
    "    div_element_2 = values.findAll('div', attrs = {'class':'pic'})[0]\n",
    "    \n",
    "    news_data['image_url'] = div_element_2.img[\"src\"]\n",
    "    news_list.append(news_data)\n",
    "    \n"
   ]
  },
  {
   "cell_type": "markdown",
   "metadata": {},
   "source": [
    "# Codes section works fine even with new news are update each day"
   ]
  },
  {
   "cell_type": "code",
   "execution_count": 3,
   "metadata": {},
   "outputs": [
    {
     "data": {
      "text/plain": [
       "[{'paragraph': 'Serena Williams has pulled out of the Italian Open starting on Monday due to\\nan Achilles injury, the former world number one confirmed on Saturday.',\n",
       "  'title': 'Serena Williams withdraws from Italian Open due to Achilles injury',\n",
       "  'link': 'https://www.indiatoday.in//sports/tennis/story/serena-williams-withdraws-from-italian-open-with-achilles-injury-1721259-2020-09-12',\n",
       "  'image_url': 'https://akm-img-a-in.tosshub.com/indiatoday/images/story/202009/AP20255130572922-170x96.jpeg?0FIdHVL305kOdN4xUbCwXcAVsKlQpaKn'},\n",
       " {'paragraph': 'Arsenal striker Alexandre Lacazette said that he is happy at the club and\\nwants his team to be at the top, after The Gunners started their campaign\\nwith a win over Fulham',\n",
       "  'title': 'Premier League: Arsenal have big ambitions this season, says striker Alexandre Lacazette after first win',\n",
       "  'link': 'https://www.indiatoday.in//sports/football/story/arsenal-alexandre-lacazette-mikel-arteta-the-gunners-premier-league-1721257-2020-09-12',\n",
       "  'image_url': 'https://akm-img-a-in.tosshub.com/indiatoday/images/story/202009/Lacazette_0-170x96.jpeg?816uf9bBe4H26LrMsCEbMMGiXhRGa8zl'},\n",
       " {'paragraph': \"England pacer Jofra Archer has received plenty of offensive comments on\\nsocial media in recent months and a recent one was after England's defeat\\nagainst Australia in 1st ODI.\",\n",
       "  'title': 'Are you wearing a stolen watch? Jofra Archer hits back at troller after getting racially abused ',\n",
       "  'link': 'https://www.indiatoday.in//sports/cricket/story/jofra-archer-suffers-racial-abuse-on-instagram-after-england-odi-1721256-2020-09-12',\n",
       "  'image_url': 'https://akm-img-a-in.tosshub.com/indiatoday/images/story/202009/2020-09-11T140241Z_868538504_R-170x96.png?JP0N6P1AhOgGVte1RFiQ6d.RHcCvxbKP'},\n",
       " {'paragraph': \"China's honey-trapping tactics are nothing new. The PLA is known to threaten\\nTibetan women to force themselves on Indians, especially army personnel. That\\nthe border areas in Arunachal Pradesh are porous and unfenced makes it easier\\nfor PLA and Chinese intelligence agencies to indulge in such illegal\\nactivities.\\xa0\",\n",
       "  'title': 'Is China planning to stoke an insurgency in Arunachal Pradesh?\\xa0',\n",
       "  'link': 'https://www.indiatoday.in//news-analysis/story/is-china-planning-to-stoke-an-insurgency-in-arunachal-pradesh-1721254-2020-09-12',\n",
       "  'image_url': 'https://akm-img-a-in.tosshub.com/indiatoday/images/story/202009/arunachal_reuters-170x96.jpeg?bToVSMFGG0.3d1ATrK2Bs8sqmlRGNaTP'},\n",
       " {'paragraph': '\"I call upon the Chief Minister (Uddhav Thackeray) to stop this gunda raj,\"\\nformer Maharashtra CM Devendra Fadnavis said in response to the attack on\\nretired Naval officer Madan Sharma by Shiv Sena workers.',\n",
       "  'title': \"Attack on retd Naval officer 'state-sponsored terrorism', says Devendra Fadnavis\",\n",
       "  'link': 'https://www.indiatoday.in//india/story/attack-on-retd-naval-officer-state-sponsored-terrorism-says-devendra-fadnavis-1721250-2020-09-12',\n",
       "  'image_url': 'https://akm-img-a-in.tosshub.com/indiatoday/images/story/202009/Devendra_Fadnavis__PTI_-170x96.jpeg?duACvHoEeTZPF3Pjsu.AT6vUWiI9Q_36'},\n",
       " {'paragraph': \"US Open 2020 Women's Singles Final Live Streaming: Naomi Osaka and Victoria\\nAzarenka will take centre stage at the Arthur Ashe stadium in the final of US\\nOpen.\",\n",
       "  'title': \"US Open 2020 women's Singles Final Live Streaming: Naomi Osaka vs Victoria Azarenka\",\n",
       "  'link': 'https://www.indiatoday.in//sports/tennis/story/us-open-2020-womens-tennis-final-live-streaming-telecast-when-where-how-to-watch-1721249-2020-09-12',\n",
       "  'image_url': 'https://akm-img-a-in.tosshub.com/indiatoday/images/story/202009/pjimage__2_-170x96.jpeg?_TSz6sqEqzr9MVtusghXn_MxzTIpeIRK'},\n",
       " {'paragraph': 'The Virat Kohli-led Royal Challengers Bangalore, who have not yet won an IPL\\ntitle, will be starting their IPL 2020 campaign against Sunrisers Hyderabad\\non September 21',\n",
       "  'title': 'IPL 2020: When you are having fun, each moment becomes magical, says RCB skipper Virat Kohli',\n",
       "  'link': 'https://www.indiatoday.in//sports/cricket/story/virat-kohli-royal-challengers-bangalore-ipl-2020-indian-premier-league-ab-de-villiers-1721248-2020-09-12',\n",
       "  'image_url': 'https://akm-img-a-in.tosshub.com/indiatoday/images/story/202009/Virat_Kohli_RCB_team_Twitter-170x96.jpeg?oQKi3UTO04gfWvZcMxtTOz46aorbQYbH'},\n",
       " {'paragraph': '\"In large trials such as this, it is expected that some participants will\\nbecome unwell,\" the University of Oxford said after an individual who\\nreceived its Covid-19 vaccine, created in partnership with AstraZeneca,\\ndeveloped signs of a spinal disorder.',\n",
       "  'title': 'Oxford, AstraZeneca resume clinical trials of Covid-19 vaccine in UK',\n",
       "  'link': 'https://www.indiatoday.in//coronavirus-outbreak/story/oxford-astrazeneca-resume-clinical-trials-of-covid-19-vaccine-in-uk-1721246-2020-09-12',\n",
       "  'image_url': 'https://akm-img-a-in.tosshub.com/indiatoday/images/story/202009/AstraZeneca_vaccine-170x96.jpeg?674Fgv5uRJxXL3i772T0HJkgAOpWdXb2'},\n",
       " {'paragraph': 'Arsenal made a convincing start to the new Premier League season as debutants\\nWillian and Gabriel impressed in a 3-0 win at Fulham.',\n",
       "  'title': 'Willian, Gabriel star on debut as Arsenal thrash hapless Fulham in season opener',\n",
       "  'link': 'https://www.indiatoday.in//sports/football/story/willian-gabriel-arsenal-beat-fulham-3-0-season-opener-1721243-2020-09-12',\n",
       "  'image_url': 'https://akm-img-a-in.tosshub.com/indiatoday/images/story/202009/2020-09-12T125432Z_832284126_U-170x96.png?GG4XEaelSYn.wKuBxkt6fU5rv78eAF8J'},\n",
       " {'paragraph': 'The issue centred around a series of discourses a historical gurdwara in\\nDelhi hosted over what is called the Dasam Granth, the collective writings\\nattributed to Guru Gobind Singh.',\n",
       "  'title': 'The vanishing art of critical reading in Sikh theological space',\n",
       "  'link': 'https://www.indiatoday.in//news-analysis/story/vanishing-art-critical-reading-sikh-theological-space-1721244-2020-09-12',\n",
       "  'image_url': 'https://akm-img-a-in.tosshub.com/indiatoday/images/story/202009/Gurudwara-170x96.jpeg?o9i.MgNIkbhBsjPmLXp2SYda80uC.iyL'},\n",
       " {'paragraph': 'USA Cricket’s fast bowler Ali Khan, of Trinbago Knight Riders fame, has\\nbeen roped in by the Kolkata Knight Riders for the 2020 edition of the Indian\\nPremier League.\\xa0',\n",
       "  'title': '‘Next Stop Dubai’: USA Cricket’s globetrotter Ali Khan sets foot on unique IPL dream',\n",
       "  'link': 'https://www.indiatoday.in//sports/ipl-2020/story/ipl-2020-ali-khan-usa-kkr-harry-gurney-1721234-2020-09-12',\n",
       "  'image_url': 'https://akm-img-a-in.tosshub.com/indiatoday/images/story/202009/DrzVSTQXcAALA_Y-170x96.jpeg?VjEjkEbknS1kknK_mwOTS9iR4.4B.IIM'},\n",
       " {'paragraph': \"India's Munaf Patel will be going under the hammer for the inaugural Lanka\\nPremier League that is scheduled to take place between November 14 and\\nDecember 6\",\n",
       "  'title': 'Lanka Premier League: Munaf Patel, Daren Sammy, Chris Gayle among overseas players to take part in auction',\n",
       "  'link': 'https://www.indiatoday.in//sports/cricket/story/munaf-patel-lanka-premier-league-sri-lanka-cricket-mumbai-indians-2011-world-cup-1721236-2020-09-12',\n",
       "  'image_url': 'https://akm-img-a-in.tosshub.com/indiatoday/images/story/202009/Munaf_Patel_reuters1-170x96.jpeg?9xRRz4unbqG6bh1g4SDRt3Ap14CMmvgP'}]"
      ]
     },
     "execution_count": 3,
     "metadata": {},
     "output_type": "execute_result"
    }
   ],
   "source": [
    "news_list"
   ]
  },
  {
   "cell_type": "code",
   "execution_count": 4,
   "metadata": {},
   "outputs": [
    {
     "data": {
      "text/plain": [
       "12"
      ]
     },
     "execution_count": 4,
     "metadata": {},
     "output_type": "execute_result"
    }
   ],
   "source": [
    "len(news_list)"
   ]
  },
  {
   "cell_type": "code",
   "execution_count": 5,
   "metadata": {},
   "outputs": [],
   "source": [
    "# Saving the news section into csv "
   ]
  },
  {
   "cell_type": "code",
   "execution_count": 6,
   "metadata": {},
   "outputs": [],
   "source": [
    "filename = 'new_list.csv'\n",
    "with open(filename, 'w', newline='') as f: \n",
    "    w = csv.DictWriter(f,['paragraph','title','link','image_url']) \n",
    "    w.writeheader() \n",
    "    for news in news_list: \n",
    "        w.writerow(news)"
   ]
  },
  {
   "cell_type": "code",
   "execution_count": null,
   "metadata": {},
   "outputs": [],
   "source": []
  },
  {
   "cell_type": "code",
   "execution_count": null,
   "metadata": {},
   "outputs": [],
   "source": []
  }
 ],
 "metadata": {
  "kernelspec": {
   "display_name": "Python 3",
   "language": "python",
   "name": "python3"
  },
  "language_info": {
   "codemirror_mode": {
    "name": "ipython",
    "version": 3
   },
   "file_extension": ".py",
   "mimetype": "text/x-python",
   "name": "python",
   "nbconvert_exporter": "python",
   "pygments_lexer": "ipython3",
   "version": "3.6.5"
  }
 },
 "nbformat": 4,
 "nbformat_minor": 4
}
