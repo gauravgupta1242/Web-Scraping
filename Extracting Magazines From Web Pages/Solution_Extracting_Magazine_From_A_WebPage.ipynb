{
 "cells": [
  {
   "cell_type": "markdown",
   "metadata": {},
   "source": [
    "# Web Scraping Using Beautiful Soup and html5lib"
   ]
  },
  {
   "cell_type": "markdown",
   "metadata": {},
   "source": [
    "## Scraping a news channel and converting the data into excel /csv and Each news section into a pdf file"
   ]
  },
  {
   "cell_type": "code",
   "execution_count": 1,
   "metadata": {},
   "outputs": [],
   "source": [
    "import pandas as pd\n",
    "import requests \n",
    "from bs4 import BeautifulSoup \n",
    "import csv "
   ]
  },
  {
   "cell_type": "markdown",
   "metadata": {},
   "source": [
    "# extracting all data source from each news section"
   ]
  },
  {
   "cell_type": "code",
   "execution_count": 2,
   "metadata": {},
   "outputs": [
    {
     "name": "stdout",
     "output_type": "stream",
     "text": [
      "<div class=\"catagory-listing\"><div class=\"pic\"> <img alt=\"\" data-preview-url=\"\" src=\"https://akm-img-a-in.tosshub.com/indiatoday/images/story/202006/venus_reuters_1-170x96.jpeg?gPww6.2Vyr0LEzDHmABV0rhAlK4YHhLK\" title=\"\"/></div><div class=\"detail\"><h2 class=\"\" title=\"Astronomers see possible hints of life in Venus’s clouds\"><a href=\"/science/story/astronomers-see-possible-hints-of-life-in-venus-s-clouds-1721827-2020-09-14\">Astronomers see possible hints of life in Venus’s clouds</a></h2><p>Two telescopes in Hawaii and Chile spotted in the thick Venutian clouds the\n",
      "chemical signature of phosphine, a noxious gas that on Earth is only\n",
      "associated with life, according to a study in Monday's journal Nature\n",
      "Astronomy.</p></div></div>\n",
      "<div class=\"catagory-listing\"><div class=\"pic\"> <img alt=\"\" data-preview-url=\"\" src=\"https://akm-img-a-in.tosshub.com/indiatoday/images/story/202009/testing-170x96.jpeg?wS_fuIjOzyfV_yeu9YabJX2Mx5tLJ_Or\" title=\"\"/></div><div class=\"detail\"><h2 class=\"\" title=\"Bengaluru drives Karnataka's Covid-19 outbreak \"><a href=\"/diu/story/bengaluru-drives-karnataka-s-covid-19-outbreak-1721825-2020-09-14\">Bengaluru drives Karnataka's Covid-19 outbreak </a></h2><p>The state has the most concentrated outbreak of any of the high burden states\n",
      "in the country.</p></div></div>\n",
      "<div class=\"catagory-listing\"><div class=\"pic\"> <img alt=\"File photo of Shashi Tharoor (left) and Chetan Bhagat (right)\" data-preview-url=\"\" src=\"https://akm-img-a-in.tosshub.com/indiatoday/images/story/202009/Bhagat_Shashi-170x96.jpeg?lfEgptx15bOPUkAX9G3l5mrQIcxAyMpy\" title=\"\"/></div><div class=\"detail\"><h2 class=\"\" title=\"Tharoorsaurus decoded: What Shashi Tharoor said in praise of Chetan Bhagat \"><a href=\"/india/story/tharoorsaurus-decoded-what-shashi-tharoor-said-in-praise-of-chetan-bhagat-1721819-2020-09-14\">Tharoorsaurus decoded: What Shashi Tharoor said in praise of Chetan Bhagat </a></h2><p>Congress MP Shashi Tharoor recently praised author Chetan Bhagat's article in\n",
      "a national daily using the words \"sesquipedalian\", \"rodomontade\", \"limpid\"\n",
      "and \"perspicacity\".</p></div></div>\n",
      "<div class=\"catagory-listing\"><div class=\"pic\"> <img class=\"lazyloaded\" data-preview-url=\"\" height=\"96\" src=\"https://akm-img-a-in.tosshub.com/indiatoday/images/story/202009/onions-pti-170x96.jpeg?45zvHKa2YjdKlXWdf1_j4L6a7FhPN7wc\" width=\"170\"/></div><div class=\"detail\"><h2 class=\"\" title=\"Government bans export of all kind of onions with immediate effect\"><a href=\"/india/story/government-bans-export-of-all-kind-of-onions-with-immediate-effect-1721814-2020-09-14\">Government bans export of all kind of onions with immediate effect</a></h2><p>The export of all varieties of onions has been banned by the central\n",
      "government.</p></div></div>\n",
      "<div class=\"catagory-listing\"><div class=\"pic\"> <img class=\"lazyloaded\" data-preview-url=\"\" height=\"96\" src=\"https://akm-img-a-in.tosshub.com/indiatoday/images/story/202009/Mughal_Museum_Agra-170x96.png?8ReTgYR9dEilPA96YJK5L6hgXRq5sI3z\" width=\"170\"/></div><div class=\"detail\"><h2 class=\"\" title=\"UP govt renames Agra's Mughal Museum to Chhatrapati Shivaji Maharaj Museum\"><a href=\"/india/story/up-govt-renames-agra-s-mughal-museum-to-chhatrapati-shivaji-maharaj-museum-1721812-2020-09-14\">UP govt renames Agra's Mughal Museum to Chhatrapati Shivaji Maharaj Museum</a></h2><p>During a review meeting on Monday, Uttar Pradesh CM Yogi Adityanath directed\n",
      "officials to rename the under-construction Mughal Museum in Agra to\n",
      "Chhatrapati Shivaji Maharaj Museum.</p></div></div>\n",
      "<div class=\"catagory-listing\"><div class=\"pic\"> <img class=\"lazyloaded\" data-preview-url=\"\" height=\"96\" src=\"https://akm-img-a-in.tosshub.com/indiatoday/images/story/202009/Jofra_Archer-170x96.jpeg?_c21AlyQ5fOXO934vRojq3nAy2yVNFXE\" width=\"170\"/></div><div class=\"detail\"><h2 class=\"\" title=\"It is harsh of Mikey to not do research before criticising: Jofra Archer on Michael Holding’s anti-racism rant\"><a href=\"/sports/cricket/story/jofra-archer-michael-holding-black-lives-matter-aaron-finch-old-trafford-england-cricket-1721810-2020-09-14\">No one has forgotten about Black Lives Matter, Archer responds to Holding</a></h2><p>England pacer Jofra Archer responds to Michael Holding’s comments about\n",
      "England and Australia players not taking a knee in support of the 'Black\n",
      "Lives Matter' movement</p></div></div>\n",
      "<div class=\"catagory-listing\"><div class=\"pic\"> <img class=\"lazyloaded\" data-preview-url=\"\" height=\"96\" src=\"https://akm-img-a-in.tosshub.com/indiatoday/images/story/202009/mamata-banerjee-pti-14sept-170x96.jpeg?QekzJOO79eqkA3Vi7iV1d2hd6wOg5isc\" width=\"170\"/></div><div class=\"detail\"><h2 class=\"\" title=\"Ahead of assembly polls, CM Mamata Banerjee announces stipend for Brahmin priests in Bengal\"><a href=\"/india/story/ahead-of-assembly-polls-cm-mamata-banerjee-announces-stipend-for-brahmin-priests-in-bengal-1721809-2020-09-14\">CM Mamata Banerjee announces stipend for Brahmin priests in Bengal</a></h2><p>Bengal CM Mamata Banerjee has announced a stipend of Rs 1000 per month for\n",
      "Brahmin priests in the state.</p></div></div>\n",
      "<div class=\"catagory-listing\"><div class=\"pic\"> <img class=\"lazyloaded\" data-preview-url=\"\" height=\"96\" src=\"https://akm-img-a-in.tosshub.com/indiatoday/images/story/202009/Kesrick-and-Kohli-KVS-Girijpg-170x96.jpeg?n6uVVwr6BEykBziU9JDAZ3KgAnseJImV\" width=\"170\"/></div><div class=\"detail\"><h2 class=\"\" title=\"Virat Kohli started saying stuff I don't want to repeat: Kesrick Williams on getting sledged by India captain\"><a href=\"/sports/cricket/story/virat-kohli-kesrick-williams-sledging-notebook-celebration-india-vs-west-indies-2019-hyderabad-t20i-1721806-2020-09-14\">Can you zip your mouth and bat? What Kesrick Williams told Kohli during Hyderabad T20I</a></h2><p>Virat Kohli and Kesrick Williams were involved in a funny sledging incident\n",
      "during a T20 match between India and West Indies in Hyderabad last year.</p></div></div>\n",
      "<div class=\"catagory-listing\"><div class=\"pic\"> <img class=\"lazyloaded\" data-preview-url=\"\" height=\"96\" src=\"https://akm-img-a-in.tosshub.com/indiatoday/images/story/202009/thumbnail_Pic_1-170x96.png?5nlcwU8.nDGGKN6fnTi5CIuSXIFIqPwq\" width=\"170\"/></div><div class=\"detail\"><h2 class=\"\" title=\"Fact Check: Why Pak social media users' glee at crashed IAF chopper is misplaced \"><a href=\"/fact-check/story/why-pak-social-media-users-glee-at-crashed-iaf-chopper-is-misplaced-1721805-2020-09-14\">Fact Check: Why Pak social media users' glee at crashed IAF chopper is misplaced </a></h2><p>A picture of a crashed helicopter is being shared by several Pakistani social\n",
      "media handles with the claim that it is an IAF chopper that recently crashed\n",
      "in Ladakh amid tensions between India and China. </p></div></div>\n",
      "<div class=\"catagory-listing\"><div class=\"pic\"> <img class=\"lazyloaded\" data-preview-url=\"\" height=\"96\" src=\"https://akm-img-a-in.tosshub.com/indiatoday/images/story/202009/Harivansh_Singh__PTI__0-170x96.jpeg?0PfZSJGo1PwR5awjkSWIvRZ92n6FMLPi\" width=\"170\"/></div><div class=\"detail\"><h2 class=\"\" title=\"‘Umpire’ respected across political lines, Harivansh Singh elected dy chairman of Rajya Sabha again\"><a href=\"/india/story/-umpire-respected-across-political-lines-harivansh-singh-elected-dy-chairman-of-rajya-sabha-again-1721801-2020-09-14\">‘Umpire’ respected across political lines, Harivansh Singh elected dy chairman of Rajya Sabha again</a></h2><p>Nominated to Rajya Sabha from Bihar, JD(U) leader Harivansh Narayan Singh was\n",
      "praised by MPs across political lines on his election to the post of deputy\n",
      "chairman of Rajya Sabha for a second consecutive term</p></div></div>\n",
      "<div class=\"catagory-listing\"><div class=\"pic\"> <img class=\"lazyloaded\" data-preview-url=\"\" height=\"96\" src=\"https://akm-img-a-in.tosshub.com/indiatoday/images/story/202009/showik2-170x96.png?FMZoI1PfFsxIOVZ1X_CwfS3f6BviK7YU\" width=\"170\"/></div><div class=\"detail\"><h2 class=\"\" title=\"Showik Chakraborty lawyer to approach Bombay High Court after sessions court rejects bail plea\"><a href=\"/movies/celebrities/story/showik-chakraborty-lawyer-to-approach-bombay-high-court-after-sessions-court-rejects-bail-plea-1721791-2020-09-14\">Showik lawyer to approach Bombay HC after sessions court rejects bail plea</a></h2><p>Rhea Chakraborty's brother Showik Chakraborty's lawyer will approach Bombay\n",
      "High Court after the sessions court rejected his bail plea. Showik was\n",
      "arrested by Narcotics Control Bureau (NCB) for procuring drugs.</p></div></div>\n",
      "<div class=\"catagory-listing\"><div class=\"pic\"> <img class=\"lazyloaded\" data-preview-url=\"\" height=\"96\" src=\"https://akm-img-a-in.tosshub.com/indiatoday/images/story/202009/sushant_showik_rhea-170x96.jpeg?NZEcKq4V_4rvrhljZsjgl2NrJNNCTwZE\" width=\"170\"/></div><div class=\"detail\"><h2 class=\"\" title=\"6 men arrested for drug peddling linked to Rhea, Showik: NCB\"><a href=\"/india/story/6-men-arrested-for-drug-peddling-linked-to-rhea-showik-ncb-1721790-2020-09-14\">6 men arrested for drug peddling linked to Rhea, Showik: NCB</a></h2><p>The NCB has said that the six men it arrested for drug peddling are directly\n",
      "or indirectly linked to Rhea Chakraborty, Showik Chakraborty and Sushant\n",
      "Singh Rajput.</p></div></div>\n"
     ]
    }
   ],
   "source": [
    "\n",
    "URL = \"https://www.indiatoday.in/top-stories\"\n",
    "r = requests.get(URL) \n",
    "   \n",
    "soup = BeautifulSoup(r.content, 'html5lib') \n",
    "\n",
    "   \n",
    "table = soup.find('div', attrs = {'class':'view-content'})  \n",
    "\n",
    "\n",
    "\n",
    "news_list = []\n",
    "\n",
    "# Searching and saving in one div elements\n",
    "for values in table: \n",
    "    print(values)\n",
    "    news_data = {}\n",
    "    \n",
    "    # Extracting from 1st Element\n",
    "    div_element_1 = values.findAll('div', attrs = {'class':'detail'})[0]\n",
    " \n",
    "    news_data['paragraph'] = div_element_1.p.get_text()\n",
    "    news_data['title'] = div_element_1.h2['title']\n",
    "    news_data['link'] = \"https://www.indiatoday.in/\" + div_element_1.h2.a['href']\n",
    "     \n",
    "    # extracting image source \n",
    "    div_element_2 = values.findAll('div', attrs = {'class':'pic'})[0]\n",
    "    \n",
    "    news_data['image_url'] = div_element_2.img[\"src\"]\n",
    "    news_list.append(news_data)\n",
    "    \n"
   ]
  },
  {
   "cell_type": "markdown",
   "metadata": {},
   "source": [
    "# Codes section works fine even with new news are update each day"
   ]
  },
  {
   "cell_type": "code",
   "execution_count": 3,
   "metadata": {},
   "outputs": [
    {
     "data": {
      "text/plain": [
       "[{'paragraph': \"Two telescopes in Hawaii and Chile spotted in the thick Venutian clouds the\\nchemical signature of phosphine, a noxious gas that on Earth is only\\nassociated with life, according to a study in Monday's journal Nature\\nAstronomy.\",\n",
       "  'title': 'Astronomers see possible hints of life in Venus’s clouds',\n",
       "  'link': 'https://www.indiatoday.in//science/story/astronomers-see-possible-hints-of-life-in-venus-s-clouds-1721827-2020-09-14',\n",
       "  'image_url': 'https://akm-img-a-in.tosshub.com/indiatoday/images/story/202006/venus_reuters_1-170x96.jpeg?gPww6.2Vyr0LEzDHmABV0rhAlK4YHhLK'},\n",
       " {'paragraph': 'The state has the most concentrated outbreak of any of the high burden states\\nin the country.',\n",
       "  'title': \"Bengaluru drives Karnataka's Covid-19 outbreak \",\n",
       "  'link': 'https://www.indiatoday.in//diu/story/bengaluru-drives-karnataka-s-covid-19-outbreak-1721825-2020-09-14',\n",
       "  'image_url': 'https://akm-img-a-in.tosshub.com/indiatoday/images/story/202009/testing-170x96.jpeg?wS_fuIjOzyfV_yeu9YabJX2Mx5tLJ_Or'},\n",
       " {'paragraph': 'Congress MP Shashi Tharoor recently praised author Chetan Bhagat\\'s article in\\na national daily using the words \"sesquipedalian\", \"rodomontade\", \"limpid\"\\nand \"perspicacity\".',\n",
       "  'title': 'Tharoorsaurus decoded: What Shashi Tharoor said in praise of Chetan Bhagat ',\n",
       "  'link': 'https://www.indiatoday.in//india/story/tharoorsaurus-decoded-what-shashi-tharoor-said-in-praise-of-chetan-bhagat-1721819-2020-09-14',\n",
       "  'image_url': 'https://akm-img-a-in.tosshub.com/indiatoday/images/story/202009/Bhagat_Shashi-170x96.jpeg?lfEgptx15bOPUkAX9G3l5mrQIcxAyMpy'},\n",
       " {'paragraph': 'The export of all varieties of onions has been banned by the central\\ngovernment.',\n",
       "  'title': 'Government bans export of all kind of onions with immediate effect',\n",
       "  'link': 'https://www.indiatoday.in//india/story/government-bans-export-of-all-kind-of-onions-with-immediate-effect-1721814-2020-09-14',\n",
       "  'image_url': 'https://akm-img-a-in.tosshub.com/indiatoday/images/story/202009/onions-pti-170x96.jpeg?45zvHKa2YjdKlXWdf1_j4L6a7FhPN7wc'},\n",
       " {'paragraph': 'During a review meeting on Monday, Uttar Pradesh CM Yogi Adityanath directed\\nofficials to rename the under-construction Mughal Museum in Agra to\\nChhatrapati Shivaji Maharaj Museum.',\n",
       "  'title': \"UP govt renames Agra's Mughal Museum to Chhatrapati Shivaji Maharaj Museum\",\n",
       "  'link': 'https://www.indiatoday.in//india/story/up-govt-renames-agra-s-mughal-museum-to-chhatrapati-shivaji-maharaj-museum-1721812-2020-09-14',\n",
       "  'image_url': 'https://akm-img-a-in.tosshub.com/indiatoday/images/story/202009/Mughal_Museum_Agra-170x96.png?8ReTgYR9dEilPA96YJK5L6hgXRq5sI3z'},\n",
       " {'paragraph': \"England pacer Jofra Archer responds to Michael Holding’s comments about\\nEngland and Australia players not taking a knee in support of the 'Black\\nLives Matter' movement\",\n",
       "  'title': 'It is harsh of Mikey to not do research before criticising: Jofra Archer on Michael Holding’s anti-racism rant',\n",
       "  'link': 'https://www.indiatoday.in//sports/cricket/story/jofra-archer-michael-holding-black-lives-matter-aaron-finch-old-trafford-england-cricket-1721810-2020-09-14',\n",
       "  'image_url': 'https://akm-img-a-in.tosshub.com/indiatoday/images/story/202009/Jofra_Archer-170x96.jpeg?_c21AlyQ5fOXO934vRojq3nAy2yVNFXE'},\n",
       " {'paragraph': 'Bengal CM Mamata Banerjee has announced a stipend of Rs 1000 per month for\\nBrahmin priests in the state.',\n",
       "  'title': 'Ahead of assembly polls, CM Mamata Banerjee announces stipend for Brahmin priests in Bengal',\n",
       "  'link': 'https://www.indiatoday.in//india/story/ahead-of-assembly-polls-cm-mamata-banerjee-announces-stipend-for-brahmin-priests-in-bengal-1721809-2020-09-14',\n",
       "  'image_url': 'https://akm-img-a-in.tosshub.com/indiatoday/images/story/202009/mamata-banerjee-pti-14sept-170x96.jpeg?QekzJOO79eqkA3Vi7iV1d2hd6wOg5isc'},\n",
       " {'paragraph': 'Virat Kohli and Kesrick Williams were involved in a funny sledging incident\\nduring a T20 match between India and West Indies in Hyderabad last year.',\n",
       "  'title': \"Virat Kohli started saying stuff I don't want to repeat: Kesrick Williams on getting sledged by India captain\",\n",
       "  'link': 'https://www.indiatoday.in//sports/cricket/story/virat-kohli-kesrick-williams-sledging-notebook-celebration-india-vs-west-indies-2019-hyderabad-t20i-1721806-2020-09-14',\n",
       "  'image_url': 'https://akm-img-a-in.tosshub.com/indiatoday/images/story/202009/Kesrick-and-Kohli-KVS-Girijpg-170x96.jpeg?n6uVVwr6BEykBziU9JDAZ3KgAnseJImV'},\n",
       " {'paragraph': 'A picture of a crashed helicopter is being shared by several Pakistani social\\nmedia handles with the claim that it is an IAF chopper that recently crashed\\nin Ladakh amid tensions between India and China.\\xa0',\n",
       "  'title': \"Fact Check: Why Pak social media users' glee at crashed IAF chopper is misplaced\\xa0\",\n",
       "  'link': 'https://www.indiatoday.in//fact-check/story/why-pak-social-media-users-glee-at-crashed-iaf-chopper-is-misplaced-1721805-2020-09-14',\n",
       "  'image_url': 'https://akm-img-a-in.tosshub.com/indiatoday/images/story/202009/thumbnail_Pic_1-170x96.png?5nlcwU8.nDGGKN6fnTi5CIuSXIFIqPwq'},\n",
       " {'paragraph': 'Nominated to Rajya Sabha from Bihar, JD(U) leader Harivansh Narayan Singh was\\npraised by MPs across political lines on his election to the post of deputy\\nchairman of Rajya Sabha for a second consecutive term',\n",
       "  'title': '‘Umpire’ respected across political lines, Harivansh Singh elected dy chairman of Rajya Sabha again',\n",
       "  'link': 'https://www.indiatoday.in//india/story/-umpire-respected-across-political-lines-harivansh-singh-elected-dy-chairman-of-rajya-sabha-again-1721801-2020-09-14',\n",
       "  'image_url': 'https://akm-img-a-in.tosshub.com/indiatoday/images/story/202009/Harivansh_Singh__PTI__0-170x96.jpeg?0PfZSJGo1PwR5awjkSWIvRZ92n6FMLPi'},\n",
       " {'paragraph': \"Rhea Chakraborty's brother Showik Chakraborty's lawyer will approach Bombay\\nHigh Court after the sessions court rejected his bail plea. Showik was\\narrested by Narcotics Control Bureau (NCB) for procuring drugs.\",\n",
       "  'title': 'Showik Chakraborty lawyer to approach Bombay High Court after sessions court rejects bail plea',\n",
       "  'link': 'https://www.indiatoday.in//movies/celebrities/story/showik-chakraborty-lawyer-to-approach-bombay-high-court-after-sessions-court-rejects-bail-plea-1721791-2020-09-14',\n",
       "  'image_url': 'https://akm-img-a-in.tosshub.com/indiatoday/images/story/202009/showik2-170x96.png?FMZoI1PfFsxIOVZ1X_CwfS3f6BviK7YU'},\n",
       " {'paragraph': 'The NCB has said that the six men it arrested for drug peddling are directly\\nor indirectly linked to Rhea Chakraborty, Showik Chakraborty and Sushant\\nSingh Rajput.',\n",
       "  'title': '6 men arrested for drug peddling linked to Rhea, Showik: NCB',\n",
       "  'link': 'https://www.indiatoday.in//india/story/6-men-arrested-for-drug-peddling-linked-to-rhea-showik-ncb-1721790-2020-09-14',\n",
       "  'image_url': 'https://akm-img-a-in.tosshub.com/indiatoday/images/story/202009/sushant_showik_rhea-170x96.jpeg?NZEcKq4V_4rvrhljZsjgl2NrJNNCTwZE'}]"
      ]
     },
     "execution_count": 3,
     "metadata": {},
     "output_type": "execute_result"
    }
   ],
   "source": [
    "news_list"
   ]
  },
  {
   "cell_type": "code",
   "execution_count": 4,
   "metadata": {},
   "outputs": [
    {
     "data": {
      "text/plain": [
       "12"
      ]
     },
     "execution_count": 4,
     "metadata": {},
     "output_type": "execute_result"
    }
   ],
   "source": [
    "len(news_list)"
   ]
  },
  {
   "cell_type": "code",
   "execution_count": 5,
   "metadata": {},
   "outputs": [],
   "source": [
    "# Saving the news section into csv "
   ]
  },
  {
   "cell_type": "code",
   "execution_count": 6,
   "metadata": {},
   "outputs": [],
   "source": [
    "filename = 'new_list.csv'\n",
    "with open(filename, 'w', newline='') as f: \n",
    "    w = csv.DictWriter(f,['paragraph','title','link','image_url']) \n",
    "    w.writeheader() \n",
    "    for news in news_list: \n",
    "        w.writerow(news)"
   ]
  },
  {
   "cell_type": "code",
   "execution_count": null,
   "metadata": {},
   "outputs": [],
   "source": []
  },
  {
   "cell_type": "markdown",
   "metadata": {},
   "source": [
    "# Converting each news sections into pdf"
   ]
  },
  {
   "cell_type": "code",
   "execution_count": 7,
   "metadata": {},
   "outputs": [],
   "source": [
    "news_df = pd.read_csv('new_list.csv', encoding='cp1252')"
   ]
  },
  {
   "cell_type": "code",
   "execution_count": 8,
   "metadata": {},
   "outputs": [
    {
     "data": {
      "text/html": [
       "<div>\n",
       "<style scoped>\n",
       "    .dataframe tbody tr th:only-of-type {\n",
       "        vertical-align: middle;\n",
       "    }\n",
       "\n",
       "    .dataframe tbody tr th {\n",
       "        vertical-align: top;\n",
       "    }\n",
       "\n",
       "    .dataframe thead th {\n",
       "        text-align: right;\n",
       "    }\n",
       "</style>\n",
       "<table border=\"1\" class=\"dataframe\">\n",
       "  <thead>\n",
       "    <tr style=\"text-align: right;\">\n",
       "      <th></th>\n",
       "      <th>paragraph</th>\n",
       "      <th>title</th>\n",
       "      <th>link</th>\n",
       "      <th>image_url</th>\n",
       "    </tr>\n",
       "  </thead>\n",
       "  <tbody>\n",
       "    <tr>\n",
       "      <th>0</th>\n",
       "      <td>Two telescopes in Hawaii and Chile spotted in ...</td>\n",
       "      <td>Astronomers see possible hints of life in Venu...</td>\n",
       "      <td>https://www.indiatoday.in//science/story/astro...</td>\n",
       "      <td>https://akm-img-a-in.tosshub.com/indiatoday/im...</td>\n",
       "    </tr>\n",
       "    <tr>\n",
       "      <th>1</th>\n",
       "      <td>The state has the most concentrated outbreak o...</td>\n",
       "      <td>Bengaluru drives Karnataka's Covid-19 outbreak</td>\n",
       "      <td>https://www.indiatoday.in//diu/story/bengaluru...</td>\n",
       "      <td>https://akm-img-a-in.tosshub.com/indiatoday/im...</td>\n",
       "    </tr>\n",
       "    <tr>\n",
       "      <th>2</th>\n",
       "      <td>Congress MP Shashi Tharoor recently praised au...</td>\n",
       "      <td>Tharoorsaurus decoded: What Shashi Tharoor sai...</td>\n",
       "      <td>https://www.indiatoday.in//india/story/tharoor...</td>\n",
       "      <td>https://akm-img-a-in.tosshub.com/indiatoday/im...</td>\n",
       "    </tr>\n",
       "    <tr>\n",
       "      <th>3</th>\n",
       "      <td>The export of all varieties of onions has been...</td>\n",
       "      <td>Government bans export of all kind of onions w...</td>\n",
       "      <td>https://www.indiatoday.in//india/story/governm...</td>\n",
       "      <td>https://akm-img-a-in.tosshub.com/indiatoday/im...</td>\n",
       "    </tr>\n",
       "    <tr>\n",
       "      <th>4</th>\n",
       "      <td>During a review meeting on Monday, Uttar Prade...</td>\n",
       "      <td>UP govt renames Agra's Mughal Museum to Chhatr...</td>\n",
       "      <td>https://www.indiatoday.in//india/story/up-govt...</td>\n",
       "      <td>https://akm-img-a-in.tosshub.com/indiatoday/im...</td>\n",
       "    </tr>\n",
       "    <tr>\n",
       "      <th>5</th>\n",
       "      <td>England pacer Jofra Archer responds to Michael...</td>\n",
       "      <td>It is harsh of Mikey to not do research before...</td>\n",
       "      <td>https://www.indiatoday.in//sports/cricket/stor...</td>\n",
       "      <td>https://akm-img-a-in.tosshub.com/indiatoday/im...</td>\n",
       "    </tr>\n",
       "    <tr>\n",
       "      <th>6</th>\n",
       "      <td>Bengal CM Mamata Banerjee has announced a stip...</td>\n",
       "      <td>Ahead of assembly polls, CM Mamata Banerjee an...</td>\n",
       "      <td>https://www.indiatoday.in//india/story/ahead-o...</td>\n",
       "      <td>https://akm-img-a-in.tosshub.com/indiatoday/im...</td>\n",
       "    </tr>\n",
       "    <tr>\n",
       "      <th>7</th>\n",
       "      <td>Virat Kohli and Kesrick Williams were involved...</td>\n",
       "      <td>Virat Kohli started saying stuff I don't want ...</td>\n",
       "      <td>https://www.indiatoday.in//sports/cricket/stor...</td>\n",
       "      <td>https://akm-img-a-in.tosshub.com/indiatoday/im...</td>\n",
       "    </tr>\n",
       "    <tr>\n",
       "      <th>8</th>\n",
       "      <td>A picture of a crashed helicopter is being sha...</td>\n",
       "      <td>Fact Check: Why Pak social media users' glee a...</td>\n",
       "      <td>https://www.indiatoday.in//fact-check/story/wh...</td>\n",
       "      <td>https://akm-img-a-in.tosshub.com/indiatoday/im...</td>\n",
       "    </tr>\n",
       "    <tr>\n",
       "      <th>9</th>\n",
       "      <td>Nominated to Rajya Sabha from Bihar, JD(U) lea...</td>\n",
       "      <td>‘Umpire’ respected across political lines, Har...</td>\n",
       "      <td>https://www.indiatoday.in//india/story/-umpire...</td>\n",
       "      <td>https://akm-img-a-in.tosshub.com/indiatoday/im...</td>\n",
       "    </tr>\n",
       "    <tr>\n",
       "      <th>10</th>\n",
       "      <td>Rhea Chakraborty's brother Showik Chakraborty'...</td>\n",
       "      <td>Showik Chakraborty lawyer to approach Bombay H...</td>\n",
       "      <td>https://www.indiatoday.in//movies/celebrities/...</td>\n",
       "      <td>https://akm-img-a-in.tosshub.com/indiatoday/im...</td>\n",
       "    </tr>\n",
       "    <tr>\n",
       "      <th>11</th>\n",
       "      <td>The NCB has said that the six men it arrested ...</td>\n",
       "      <td>6 men arrested for drug peddling linked to Rhe...</td>\n",
       "      <td>https://www.indiatoday.in//india/story/6-men-a...</td>\n",
       "      <td>https://akm-img-a-in.tosshub.com/indiatoday/im...</td>\n",
       "    </tr>\n",
       "  </tbody>\n",
       "</table>\n",
       "</div>"
      ],
      "text/plain": [
       "                                            paragraph  \\\n",
       "0   Two telescopes in Hawaii and Chile spotted in ...   \n",
       "1   The state has the most concentrated outbreak o...   \n",
       "2   Congress MP Shashi Tharoor recently praised au...   \n",
       "3   The export of all varieties of onions has been...   \n",
       "4   During a review meeting on Monday, Uttar Prade...   \n",
       "5   England pacer Jofra Archer responds to Michael...   \n",
       "6   Bengal CM Mamata Banerjee has announced a stip...   \n",
       "7   Virat Kohli and Kesrick Williams were involved...   \n",
       "8   A picture of a crashed helicopter is being sha...   \n",
       "9   Nominated to Rajya Sabha from Bihar, JD(U) lea...   \n",
       "10  Rhea Chakraborty's brother Showik Chakraborty'...   \n",
       "11  The NCB has said that the six men it arrested ...   \n",
       "\n",
       "                                                title  \\\n",
       "0   Astronomers see possible hints of life in Venu...   \n",
       "1     Bengaluru drives Karnataka's Covid-19 outbreak    \n",
       "2   Tharoorsaurus decoded: What Shashi Tharoor sai...   \n",
       "3   Government bans export of all kind of onions w...   \n",
       "4   UP govt renames Agra's Mughal Museum to Chhatr...   \n",
       "5   It is harsh of Mikey to not do research before...   \n",
       "6   Ahead of assembly polls, CM Mamata Banerjee an...   \n",
       "7   Virat Kohli started saying stuff I don't want ...   \n",
       "8   Fact Check: Why Pak social media users' glee a...   \n",
       "9   ‘Umpire’ respected across political lines, Har...   \n",
       "10  Showik Chakraborty lawyer to approach Bombay H...   \n",
       "11  6 men arrested for drug peddling linked to Rhe...   \n",
       "\n",
       "                                                 link  \\\n",
       "0   https://www.indiatoday.in//science/story/astro...   \n",
       "1   https://www.indiatoday.in//diu/story/bengaluru...   \n",
       "2   https://www.indiatoday.in//india/story/tharoor...   \n",
       "3   https://www.indiatoday.in//india/story/governm...   \n",
       "4   https://www.indiatoday.in//india/story/up-govt...   \n",
       "5   https://www.indiatoday.in//sports/cricket/stor...   \n",
       "6   https://www.indiatoday.in//india/story/ahead-o...   \n",
       "7   https://www.indiatoday.in//sports/cricket/stor...   \n",
       "8   https://www.indiatoday.in//fact-check/story/wh...   \n",
       "9   https://www.indiatoday.in//india/story/-umpire...   \n",
       "10  https://www.indiatoday.in//movies/celebrities/...   \n",
       "11  https://www.indiatoday.in//india/story/6-men-a...   \n",
       "\n",
       "                                            image_url  \n",
       "0   https://akm-img-a-in.tosshub.com/indiatoday/im...  \n",
       "1   https://akm-img-a-in.tosshub.com/indiatoday/im...  \n",
       "2   https://akm-img-a-in.tosshub.com/indiatoday/im...  \n",
       "3   https://akm-img-a-in.tosshub.com/indiatoday/im...  \n",
       "4   https://akm-img-a-in.tosshub.com/indiatoday/im...  \n",
       "5   https://akm-img-a-in.tosshub.com/indiatoday/im...  \n",
       "6   https://akm-img-a-in.tosshub.com/indiatoday/im...  \n",
       "7   https://akm-img-a-in.tosshub.com/indiatoday/im...  \n",
       "8   https://akm-img-a-in.tosshub.com/indiatoday/im...  \n",
       "9   https://akm-img-a-in.tosshub.com/indiatoday/im...  \n",
       "10  https://akm-img-a-in.tosshub.com/indiatoday/im...  \n",
       "11  https://akm-img-a-in.tosshub.com/indiatoday/im...  "
      ]
     },
     "execution_count": 8,
     "metadata": {},
     "output_type": "execute_result"
    }
   ],
   "source": [
    "news_df"
   ]
  },
  {
   "cell_type": "code",
   "execution_count": 9,
   "metadata": {},
   "outputs": [],
   "source": [
    "import pdfkit"
   ]
  },
  {
   "cell_type": "code",
   "execution_count": 27,
   "metadata": {},
   "outputs": [],
   "source": [
    "def generate_pdf(df):\n",
    "    \n",
    "    for i in range(len(df)):\n",
    "        \n",
    "        \n",
    "        r = requests.get(news_df['link'][i]) \n",
    "\n",
    "        soup = BeautifulSoup(r.content, 'html5lib') \n",
    "\n",
    "\n",
    "        table = soup.find('div', attrs = {'class':'description'})  \n",
    "\n",
    "        p = \"\"\n",
    "\n",
    "        for a in table.findAll('p'):\n",
    "            p = p + str(a.get_text())\n",
    "\n",
    "\n",
    "            \n",
    "        pd.set_option('colheader_justify', 'center')   # FOR TABLE <th>\n",
    "\n",
    "        html_string = '''\n",
    "        <html>\n",
    "          <head><title>News Headline</title>\n",
    "          <h2> ''' + str(df['title'][i])+''' </h2>\n",
    "          </head>\n",
    "          <body>\n",
    "             <img src= \"''' + str(df['image_url'][i]) + '''\" width=\"180\" height=\"160\">\n",
    "             <p> '''+ str(df['paragraph'][i])  + '''</p>  \n",
    "             <p>''' + str(p)  +''' </p>\n",
    "             <p> </p>\n",
    "             <a href= '''+ str(news_df['link'][i]) +'''> <b> Original Source of news </b> </a>\n",
    "          </body>\n",
    "        </html>.\n",
    "        '''\n",
    "     \n",
    "        \n",
    " \n",
    "        # OUTPUT AN HTML FILE\n",
    "        with open('myhtml.html', 'w') as f:\n",
    "            f.write(html_string.format(table=news_df.to_html(classes='mystyle')))\n",
    "        pdf_file_name = 'news_'+ str(i) + '.pdf'\n",
    "        \n",
    "        options = {\n",
    "         'page-size': 'Letter',\n",
    "         'margin-top': '0.75in',\n",
    "         'margin-right': '0.75in',\n",
    "         'margin-bottom': '0.75in',\n",
    "         'margin-left': '0.75in',\n",
    "         'encoding': \"UTF-8\",\n",
    "         'no-outline': None,\n",
    "          'orientation':'Portrait'  \n",
    "         } \n",
    "        pdfkit.from_url('myhtml.html',pdf_file_name ,options=options)\n",
    "    \n",
    "    \n",
    "    "
   ]
  },
  {
   "cell_type": "code",
   "execution_count": 28,
   "metadata": {},
   "outputs": [
    {
     "name": "stdout",
     "output_type": "stream",
     "text": [
      "Loading pages (1/6)\r\n",
      "[>                                                           ] 0%\r",
      "[======>                                                     ] 10%\r",
      "[============>                                               ] 21%\r",
      "[=================>                                          ] 29%\r",
      "[============================================================] 100%\r",
      "Counting pages (2/6)                                               \r\n",
      "[============================================================] Object 1 of 1\r",
      "Resolving links (4/6)                                                       \r\n",
      "[============================================================] Object 1 of 1\r",
      "Loading headers and footers (5/6)                                           \r\n",
      "Printing pages (6/6)\r\n",
      "[>                                                           ] Preparing\r",
      "[============================================================] Page 1 of 1\r",
      "Done                                                                      \r\n"
     ]
    }
   ],
   "source": [
    "generate_pdf(news_df[:1])"
   ]
  },
  {
   "cell_type": "code",
   "execution_count": null,
   "metadata": {},
   "outputs": [],
   "source": []
  },
  {
   "cell_type": "code",
   "execution_count": null,
   "metadata": {},
   "outputs": [],
   "source": []
  },
  {
   "cell_type": "code",
   "execution_count": null,
   "metadata": {},
   "outputs": [],
   "source": []
  },
  {
   "cell_type": "code",
   "execution_count": null,
   "metadata": {},
   "outputs": [],
   "source": []
  },
  {
   "cell_type": "code",
   "execution_count": null,
   "metadata": {},
   "outputs": [],
   "source": []
  },
  {
   "cell_type": "code",
   "execution_count": null,
   "metadata": {},
   "outputs": [],
   "source": []
  },
  {
   "cell_type": "code",
   "execution_count": null,
   "metadata": {},
   "outputs": [],
   "source": []
  },
  {
   "cell_type": "code",
   "execution_count": null,
   "metadata": {},
   "outputs": [],
   "source": []
  }
 ],
 "metadata": {
  "kernelspec": {
   "display_name": "Python 3",
   "language": "python",
   "name": "python3"
  },
  "language_info": {
   "codemirror_mode": {
    "name": "ipython",
    "version": 3
   },
   "file_extension": ".py",
   "mimetype": "text/x-python",
   "name": "python",
   "nbconvert_exporter": "python",
   "pygments_lexer": "ipython3",
   "version": "3.6.5"
  }
 },
 "nbformat": 4,
 "nbformat_minor": 4
}
