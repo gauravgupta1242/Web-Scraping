{
 "cells": [
  {
   "cell_type": "markdown",
   "metadata": {},
   "source": [
    "# Web Scraping Using Beautiful Soup and html5lib"
   ]
  },
  {
   "cell_type": "markdown",
   "metadata": {},
   "source": [
    "## Scraping a news channel and converting the data into excel /csv and Each news section into a pdf file"
   ]
  },
  {
   "cell_type": "code",
   "execution_count": 12,
   "metadata": {},
   "outputs": [],
   "source": [
    "import pandas as pd\n",
    "import requests \n",
    "from bs4 import BeautifulSoup \n",
    "import csv "
   ]
  },
  {
   "cell_type": "markdown",
   "metadata": {},
   "source": [
    "# extracting all data source from each news section"
   ]
  },
  {
   "cell_type": "code",
   "execution_count": 13,
   "metadata": {},
   "outputs": [
    {
     "name": "stdout",
     "output_type": "stream",
     "text": [
      "<div class=\"catagory-listing\"><div class=\"pic\"> <img alt=\"\" data-preview-url=\"\" src=\"https://akm-img-a-in.tosshub.com/indiatoday/images/story/202009/download-_2_-170x96.jpeg?84tF1yDt0m4Xc2I09G16ezxgCqqkEdVW\" title=\"\"/></div><div class=\"detail\"><h2 class=\"\" title=\"India-born famed Pakistani Shia scholar dies at 76\"><a href=\"/world/story/india-born-famed-pakistani-shia-scholar-dies-at-76-1721478-2020-09-13\">India-born famed Pakistani Shia scholar dies at 76</a></h2><p>India-born renowned Pakistani Shia scholar Allama Zameer Akhtar Naqvi has\n",
      "passed away. He was 76.</p></div></div>\n",
      "<div class=\"catagory-listing\"><div class=\"pic\"> <img alt=\"\" data-preview-url=\"\" src=\"https://akm-img-a-in.tosshub.com/indiatoday/images/story/202009/Ganja_seized_by_STF__3_-170x96.jpeg?OxVEHK.RZJ.d8Q00HnJ93i2u8qfP27yt\" title=\"\"/></div><div class=\"detail\"><h2 class=\"\" title=\"Odisha: Marijuana worth Rs 20 lakh seized, 4 detained\"><a href=\"/crime/story/odisha-marijuana-worth-rs-20-lakh-seized-4-detained-1721475-2020-09-13\">Odisha: Marijuana worth Rs 20 lakh seized, 4 detained</a></h2><p>The Special Task Force team on Sunday have detained four persons and seized\n",
      "4.8 quintal of marijuana worth Rs 20 lakh in Odisha's Sonepur district.</p></div></div>\n",
      "<div class=\"catagory-listing\"><div class=\"pic\"> <img alt=\"England forward Mason Greenwood\" data-preview-url=\"\" src=\"https://akm-img-a-in.tosshub.com/indiatoday/images/story/202009/Mason_Greenwood_Reuters1-170x96.jpeg?q.5RBvfFNr9ST5.mMC6ibsf5u8w5HrHg\" title=\"Premier League: Manchester United’s Mason Greenwood admits to 'poor judgement' after inhaling laughing gas\"/></div><div class=\"detail\"><h2 class=\"\" title=\"Premier League: Manchester United’s Mason Greenwood admits to 'poor judgement' after inhaling laughing gas\"><a href=\"/sports/football/story/mason-greenwood-premier-league-manchester-united-laughing-gas-covid-19-protocols-1721476-2020-09-13\">Premier League: Greenwood admits to 'poor judgement' after balloon incident</a></h2><p>The 18-year-old Manchester United forward has apologised after a video\n",
      "emerged online which shows him inhaling gas from a balloon</p></div></div>\n",
      "<div class=\"catagory-listing\"><div class=\"pic\"> <img class=\"lazyloaded\" data-preview-url=\"\" height=\"96\" src=\"https://akm-img-a-in.tosshub.com/indiatoday/images/story/202009/Madan_Sharma_Shelar_0-170x96.png?Pq9fGdnzP9dDktrQuhhA71STaOrh2817\" width=\"170\"/></div><div class=\"detail\"><h2 class=\"\" title=\"Thrashed by Shiv Sena workers, Madan Sharma shows naval ID card refuting 'Merchant Navy' claims\"><a href=\"/india/story/naval-id-card-of-madan-sharma-thrashed-by-sena-workers-refutes-merchant-navy-claims-1721471-2020-09-13\">Thrashed by Sena men, Madan Sharma shows naval ID card refuting 'Merchant Navy' claims</a></h2><p>Posts suggesting that Madan Sharma was formerly in the Merchant Navy and not\n",
      "the Indian Navy are doing rounds on social media. Sharma was assaulted by\n",
      "Shiv Sena workers in Mumbai for sharing a cartoon critical of Maharashtra CM\n",
      "Uddhav Thackeray.</p></div></div>\n",
      "<div class=\"catagory-listing\"><div class=\"pic\"> <img class=\"lazyloaded\" data-preview-url=\"\" height=\"96\" src=\"https://akm-img-a-in.tosshub.com/indiatoday/images/story/202009/2020-09-13T154424Z_149313140_U-170x96.png?XhCtEMBZXjBpKIyhsVmYas29K1eX.67y\" width=\"170\"/></div><div class=\"detail\"><h2 class=\"\" title=\"F1: Lewis Hamilton wins crash-marred Tuscan GP, Valtteri Bottas 2nd\"><a href=\"/sports/formula-one/story/f1-lewis-hamilton-wins-crash-marred-tuscan-gp-valtteri-bottas-2nd-1721472-2020-09-13\">Lewis Hamilton pips Valtteri Bottas to win Tuscan GP </a></h2><p>Lewis Hamilton took the 90th F1 win of his career, ahead of teammate Valtteri\n",
      "Bottas and Red Bull's Alexander Albon finished P3 to take his first-ever F1\n",
      "podium place.</p></div></div>\n",
      "<div class=\"catagory-listing\"><div class=\"pic\"> <img class=\"lazyloaded\" data-preview-url=\"\" height=\"96\" src=\"https://akm-img-a-in.tosshub.com/indiatoday/images/story/202009/download__1__8-170x96.jpeg?ku0JBMqy9GxNGVyAQszO4ilGstJ1ilvv\" width=\"170\"/></div><div class=\"detail\"><h2 class=\"\" title=\"Search on for survivors as wildfires torch millions of acres in US West\"><a href=\"/world/story/search-on-for-survivors-as-wildfires-torch-millions-of-acres-in-us-west-1721470-2020-09-13\">Search on for survivors as wildfires torch millions of acres in US West</a></h2><p>Crews were to resume searching for the dead on Sunday among blackened ruins\n",
      "left by massive wildfires raging in three western US states.</p></div></div>\n",
      "<div class=\"catagory-listing\"><div class=\"pic\"> <img class=\"lazyloaded\" data-preview-url=\"\" height=\"96\" src=\"https://akm-img-a-in.tosshub.com/indiatoday/images/story/202009/Jamie_Vardy_Reuters-170x96.jpeg?3O98h6xzhi3VeJOyYUfrZhZrAMEDd0us\" width=\"170\"/></div><div class=\"detail\"><h2 class=\"\" title=\"Premier League: Jamie Vardy scores twice as Leicester City ease past West Bromwich Albion\"><a href=\"/sports/football/story/premier-league-jamie-vardy-leicester-city-west-bromwich-albion-james-maddison-1721469-2020-09-13\">Premier League: Jamie Vardy scores twice as Leicester City beat West Brom</a></h2><p>Jamie Vardy, Premier League’s top scorer last year, converted two penalties\n",
      "as Leicester City got off to a winning start in their campaign against West\n",
      "Bromwich Albion</p></div></div>\n",
      "<div class=\"catagory-listing\"><div class=\"pic\"> <img class=\"lazyloaded\" data-preview-url=\"\" height=\"96\" src=\"https://akm-img-a-in.tosshub.com/indiatoday/images/story/202009/Containers__PTI-170x96.jpeg?hKuDPkTmOCF_jmbj1CmYUOXUPKaHHTIS\" width=\"170\"/></div><div class=\"detail\"><h2 class=\"\" title=\"Licence of 56 customs brokers suspended for fraud worth Rs 226 crores\"><a href=\"/crime/story/licence-of-56-customs-brokers-suspended-for-fraud-worth-rs-226-crores-1721467-2020-09-13\">Licence of 56 customs brokers suspended for fraud worth Rs 226 crores</a></h2><p>The licences of 56 customs brokers linked with fraudulent or unscrupulous\n",
      "exporters including 37 from Delhi have been suspended since August 2019 till\n",
      "date.</p></div></div>\n",
      "<div class=\"catagory-listing\"><div class=\"pic\"> <img class=\"lazyloaded\" data-preview-url=\"\" height=\"96\" src=\"https://akm-img-a-in.tosshub.com/indiatoday/images/story/202009/DNff_jmWAAcd8T0-170x96.jpeg?Ms3TloTfTKZTqCyPd10p8nxmXSVs.mfM\" width=\"170\"/></div><div class=\"detail\"><h2 class=\"\" title=\"Benfica goalkeeper Mile Svilar, 3 Sporting players test positive for coronavirus\"><a href=\"/sports/football/story/benfica-goalkeeper-mile-svilar-3-sporting-players-test-positive-for-coronavirus-1721466-2020-09-13\">Benfica goalkeeper, 3 Sporting players test Covid-19 positive </a></h2><p>Benfica confirmed in their medical bulletin that Belgian Svilar, 21, will\n",
      "miss the Champions League third round qualifier away to PAOK in Greece on\n",
      "Tuesday.</p></div></div>\n",
      "<div class=\"catagory-listing\"><div class=\"pic\"> <img class=\"lazyloaded\" data-preview-url=\"\" height=\"96\" src=\"https://akm-img-a-in.tosshub.com/indiatoday/images/story/202009/Lewis_Hamilton1_0-170x96.jpeg?LLfLRM_FFltRIlwpfoJ3HKpo_9n_Dkpr\" width=\"170\"/></div><div class=\"detail\"><h2 class=\"\" title=\"Formula One: Mercedes driver Lewis Hamilton wears ‘arrest the cops’ T-shirt ahead of Tuscan Grand Prix\"><a href=\"/sports/formula-one/story/lewis-hamilton-formula-one-world-champion-f1-tuscan-gp-tuscan-grand-prix-1721463-2020-09-13\">Lewis Hamilton wears ‘arrest the cops’ T-shirt ahead of Tuscan GP</a></h2><p>The six-time Formula One world champion Lewis Hamilton also ‘took a knee’\n",
      "before the start of the Tuscan Grand Prix on Sunday</p></div></div>\n",
      "<div class=\"catagory-listing\"><div class=\"pic\"> <img class=\"lazyloaded\" data-preview-url=\"\" height=\"96\" src=\"https://akm-img-a-in.tosshub.com/indiatoday/images/story/202009/Screen_Shot_2020-09-13_at_7.55-170x96.png?B1g7yU_TgRaKzkr1PfrwmxbDjCYSxw_5\" width=\"170\"/></div><div class=\"detail\"><h2 class=\"\" title=\"IPL 2020: Rajasthan Royals welcome back Shane Warne as mentor and brand ambassador of the franchise\"><a href=\"/sports/cricket/story/ipl-2020-shane-warne-rajasthan-royals-mentor-brand-ambassador-1721460-2020-09-13\">Shane Warne appointed for dual role of mentor and brand ambassador by Rajasthan Royals</a></h2><p>Former Australia cricketer Shane Warne has been appointed for the dual role\n",
      "of mentor and brand ambassador of the Rajasthan Royals franchise. </p></div></div>\n",
      "<div class=\"catagory-listing\"><div class=\"pic\"> <img class=\"lazyloaded\" data-preview-url=\"\" height=\"96\" src=\"https://akm-img-a-in.tosshub.com/indiatoday/images/story/202009/FotoJetnew_photo-170x96.jpeg?orxiNImAO4eSraO6QbsLlb4Wn9xdHQho\" width=\"170\"/></div><div class=\"detail\"><h2 class=\"\" title=\"Hurricane Paulette rolls toward Bermuda; Sally threatens Gulf Coast\"><a href=\"/world/story/hurricane-paulette-rolls-toward-bermuda-sally-threatens-gulf-coast-1721428-2020-09-13\">Hurricane Paulette rolls toward Bermuda; Sally threatens Gulf Coast</a></h2><p>Residents of Bermuda were urged to prepare to protect life and property ahead\n",
      "of Hurricane Paulette, which was forecast to become a dangerous hurricane\n",
      "Sunday as Tropical Storm Sally intensified in the Gulf of Mexico.</p></div></div>\n"
     ]
    }
   ],
   "source": [
    "\n",
    "URL = \"https://www.indiatoday.in/top-stories\"\n",
    "r = requests.get(URL) \n",
    "   \n",
    "soup = BeautifulSoup(r.content, 'html5lib') \n",
    "\n",
    "   \n",
    "table = soup.find('div', attrs = {'class':'view-content'})  \n",
    "\n",
    "\n",
    "\n",
    "news_list = []\n",
    "\n",
    "# Searching and saving in one div elements\n",
    "for values in table: \n",
    "    print(values)\n",
    "    news_data = {}\n",
    "    \n",
    "    # Extracting from 1st Element\n",
    "    div_element_1 = values.findAll('div', attrs = {'class':'detail'})[0]\n",
    " \n",
    "    news_data['paragraph'] = div_element_1.p.get_text()\n",
    "    news_data['title'] = div_element_1.h2['title']\n",
    "    news_data['link'] = \"https://www.indiatoday.in/\" + div_element_1.h2.a['href']\n",
    "     \n",
    "    # extracting image source \n",
    "    div_element_2 = values.findAll('div', attrs = {'class':'pic'})[0]\n",
    "    \n",
    "    news_data['image_url'] = div_element_2.img[\"src\"]\n",
    "    news_list.append(news_data)\n",
    "    \n"
   ]
  },
  {
   "cell_type": "markdown",
   "metadata": {},
   "source": [
    "# Codes section works fine even with new news are update each day"
   ]
  },
  {
   "cell_type": "code",
   "execution_count": 3,
   "metadata": {},
   "outputs": [
    {
     "data": {
      "text/plain": [
       "[{'paragraph': 'India-born renowned Pakistani Shia scholar Allama Zameer Akhtar Naqvi has\\npassed away. He was 76.',\n",
       "  'title': 'India-born famed Pakistani Shia scholar dies at 76',\n",
       "  'link': 'https://www.indiatoday.in//world/story/india-born-famed-pakistani-shia-scholar-dies-at-76-1721478-2020-09-13',\n",
       "  'image_url': 'https://akm-img-a-in.tosshub.com/indiatoday/images/story/202009/download-_2_-170x96.jpeg?84tF1yDt0m4Xc2I09G16ezxgCqqkEdVW'},\n",
       " {'paragraph': \"The Special Task Force team on Sunday have detained four persons and seized\\n4.8 quintal of marijuana worth Rs 20 lakh in Odisha's Sonepur district.\",\n",
       "  'title': 'Odisha: Marijuana worth Rs 20 lakh seized, 4 detained',\n",
       "  'link': 'https://www.indiatoday.in//crime/story/odisha-marijuana-worth-rs-20-lakh-seized-4-detained-1721475-2020-09-13',\n",
       "  'image_url': 'https://akm-img-a-in.tosshub.com/indiatoday/images/story/202009/Ganja_seized_by_STF__3_-170x96.jpeg?OxVEHK.RZJ.d8Q00HnJ93i2u8qfP27yt'},\n",
       " {'paragraph': 'The 18-year-old Manchester United forward has apologised after a video\\nemerged online which shows him inhaling gas from a balloon',\n",
       "  'title': \"Premier League: Manchester United’s Mason Greenwood admits to 'poor judgement' after inhaling laughing gas\",\n",
       "  'link': 'https://www.indiatoday.in//sports/football/story/mason-greenwood-premier-league-manchester-united-laughing-gas-covid-19-protocols-1721476-2020-09-13',\n",
       "  'image_url': 'https://akm-img-a-in.tosshub.com/indiatoday/images/story/202009/Mason_Greenwood_Reuters1-170x96.jpeg?q.5RBvfFNr9ST5.mMC6ibsf5u8w5HrHg'},\n",
       " {'paragraph': 'Posts suggesting that Madan Sharma was formerly in the Merchant Navy and not\\nthe Indian Navy are doing rounds on social media. Sharma was assaulted by\\nShiv Sena workers in Mumbai for sharing a cartoon critical of Maharashtra CM\\nUddhav Thackeray.',\n",
       "  'title': \"Thrashed by Shiv Sena workers, Madan Sharma shows naval ID card refuting 'Merchant Navy' claims\",\n",
       "  'link': 'https://www.indiatoday.in//india/story/naval-id-card-of-madan-sharma-thrashed-by-sena-workers-refutes-merchant-navy-claims-1721471-2020-09-13',\n",
       "  'image_url': 'https://akm-img-a-in.tosshub.com/indiatoday/images/story/202009/Madan_Sharma_Shelar_0-170x96.png?Pq9fGdnzP9dDktrQuhhA71STaOrh2817'},\n",
       " {'paragraph': \"Lewis Hamilton took the 90th F1 win of his career, ahead of teammate Valtteri\\nBottas and Red Bull's Alexander Albon finished P3 to take his first-ever F1\\npodium place.\",\n",
       "  'title': 'F1: Lewis Hamilton wins crash-marred Tuscan GP, Valtteri Bottas 2nd',\n",
       "  'link': 'https://www.indiatoday.in//sports/formula-one/story/f1-lewis-hamilton-wins-crash-marred-tuscan-gp-valtteri-bottas-2nd-1721472-2020-09-13',\n",
       "  'image_url': 'https://akm-img-a-in.tosshub.com/indiatoday/images/story/202009/2020-09-13T154424Z_149313140_U-170x96.png?XhCtEMBZXjBpKIyhsVmYas29K1eX.67y'},\n",
       " {'paragraph': 'Crews were to resume searching for the dead on Sunday among blackened ruins\\nleft by massive wildfires raging in three western US states.',\n",
       "  'title': 'Search on for survivors as wildfires torch millions of acres in US West',\n",
       "  'link': 'https://www.indiatoday.in//world/story/search-on-for-survivors-as-wildfires-torch-millions-of-acres-in-us-west-1721470-2020-09-13',\n",
       "  'image_url': 'https://akm-img-a-in.tosshub.com/indiatoday/images/story/202009/download__1__8-170x96.jpeg?ku0JBMqy9GxNGVyAQszO4ilGstJ1ilvv'},\n",
       " {'paragraph': 'Jamie Vardy, Premier League’s top scorer last year, converted two penalties\\nas Leicester City got off to a winning start in their campaign against West\\nBromwich Albion',\n",
       "  'title': 'Premier League: Jamie Vardy scores twice as Leicester City ease past West Bromwich Albion',\n",
       "  'link': 'https://www.indiatoday.in//sports/football/story/premier-league-jamie-vardy-leicester-city-west-bromwich-albion-james-maddison-1721469-2020-09-13',\n",
       "  'image_url': 'https://akm-img-a-in.tosshub.com/indiatoday/images/story/202009/Jamie_Vardy_Reuters-170x96.jpeg?3O98h6xzhi3VeJOyYUfrZhZrAMEDd0us'},\n",
       " {'paragraph': 'The licences of 56 customs brokers linked with fraudulent or unscrupulous\\nexporters including 37 from Delhi have been suspended since August 2019 till\\ndate.',\n",
       "  'title': 'Licence of 56 customs brokers suspended for fraud worth Rs 226 crores',\n",
       "  'link': 'https://www.indiatoday.in//crime/story/licence-of-56-customs-brokers-suspended-for-fraud-worth-rs-226-crores-1721467-2020-09-13',\n",
       "  'image_url': 'https://akm-img-a-in.tosshub.com/indiatoday/images/story/202009/Containers__PTI-170x96.jpeg?hKuDPkTmOCF_jmbj1CmYUOXUPKaHHTIS'},\n",
       " {'paragraph': 'Benfica confirmed in their medical bulletin that Belgian Svilar, 21, will\\nmiss the Champions League third round qualifier away to PAOK in Greece on\\nTuesday.',\n",
       "  'title': 'Benfica goalkeeper Mile Svilar, 3 Sporting players test positive for coronavirus',\n",
       "  'link': 'https://www.indiatoday.in//sports/football/story/benfica-goalkeeper-mile-svilar-3-sporting-players-test-positive-for-coronavirus-1721466-2020-09-13',\n",
       "  'image_url': 'https://akm-img-a-in.tosshub.com/indiatoday/images/story/202009/DNff_jmWAAcd8T0-170x96.jpeg?Ms3TloTfTKZTqCyPd10p8nxmXSVs.mfM'},\n",
       " {'paragraph': 'The six-time Formula One world champion Lewis Hamilton also ‘took a knee’\\nbefore the start of the Tuscan Grand Prix on Sunday',\n",
       "  'title': 'Formula One: Mercedes driver Lewis Hamilton wears ‘arrest the cops’ T-shirt ahead of Tuscan Grand Prix',\n",
       "  'link': 'https://www.indiatoday.in//sports/formula-one/story/lewis-hamilton-formula-one-world-champion-f1-tuscan-gp-tuscan-grand-prix-1721463-2020-09-13',\n",
       "  'image_url': 'https://akm-img-a-in.tosshub.com/indiatoday/images/story/202009/Lewis_Hamilton1_0-170x96.jpeg?LLfLRM_FFltRIlwpfoJ3HKpo_9n_Dkpr'},\n",
       " {'paragraph': 'Former Australia cricketer Shane Warne has been appointed for the dual role\\nof mentor and brand ambassador of the Rajasthan Royals franchise.\\xa0',\n",
       "  'title': 'IPL 2020: Rajasthan Royals welcome back Shane Warne as mentor and brand ambassador of the franchise',\n",
       "  'link': 'https://www.indiatoday.in//sports/cricket/story/ipl-2020-shane-warne-rajasthan-royals-mentor-brand-ambassador-1721460-2020-09-13',\n",
       "  'image_url': 'https://akm-img-a-in.tosshub.com/indiatoday/images/story/202009/Screen_Shot_2020-09-13_at_7.55-170x96.png?B1g7yU_TgRaKzkr1PfrwmxbDjCYSxw_5'},\n",
       " {'paragraph': 'Residents of Bermuda were urged to prepare to protect life and property ahead\\nof Hurricane Paulette, which was forecast to become a dangerous hurricane\\nSunday as Tropical Storm Sally intensified in the Gulf of Mexico.',\n",
       "  'title': 'Hurricane Paulette rolls toward Bermuda; Sally threatens Gulf Coast',\n",
       "  'link': 'https://www.indiatoday.in//world/story/hurricane-paulette-rolls-toward-bermuda-sally-threatens-gulf-coast-1721428-2020-09-13',\n",
       "  'image_url': 'https://akm-img-a-in.tosshub.com/indiatoday/images/story/202009/FotoJetnew_photo-170x96.jpeg?orxiNImAO4eSraO6QbsLlb4Wn9xdHQho'}]"
      ]
     },
     "execution_count": 3,
     "metadata": {},
     "output_type": "execute_result"
    }
   ],
   "source": [
    "news_list"
   ]
  },
  {
   "cell_type": "code",
   "execution_count": 4,
   "metadata": {},
   "outputs": [
    {
     "data": {
      "text/plain": [
       "12"
      ]
     },
     "execution_count": 4,
     "metadata": {},
     "output_type": "execute_result"
    }
   ],
   "source": [
    "len(news_list)"
   ]
  },
  {
   "cell_type": "code",
   "execution_count": 5,
   "metadata": {},
   "outputs": [],
   "source": [
    "# Saving the news section into csv "
   ]
  },
  {
   "cell_type": "code",
   "execution_count": 6,
   "metadata": {},
   "outputs": [],
   "source": [
    "filename = 'new_list.csv'\n",
    "with open(filename, 'w', newline='') as f: \n",
    "    w = csv.DictWriter(f,['paragraph','title','link','image_url']) \n",
    "    w.writeheader() \n",
    "    for news in news_list: \n",
    "        w.writerow(news)"
   ]
  },
  {
   "cell_type": "code",
   "execution_count": null,
   "metadata": {},
   "outputs": [],
   "source": []
  },
  {
   "cell_type": "markdown",
   "metadata": {},
   "source": [
    "# Converting each news sections into pdf"
   ]
  },
  {
   "cell_type": "code",
   "execution_count": 21,
   "metadata": {},
   "outputs": [],
   "source": [
    "news_df = pd.read_csv('new_list.csv', encoding='cp1252')"
   ]
  },
  {
   "cell_type": "code",
   "execution_count": 22,
   "metadata": {},
   "outputs": [
    {
     "data": {
      "text/html": [
       "<div>\n",
       "<style scoped>\n",
       "    .dataframe tbody tr th:only-of-type {\n",
       "        vertical-align: middle;\n",
       "    }\n",
       "\n",
       "    .dataframe tbody tr th {\n",
       "        vertical-align: top;\n",
       "    }\n",
       "\n",
       "    .dataframe thead th {\n",
       "        text-align: right;\n",
       "    }\n",
       "</style>\n",
       "<table border=\"1\" class=\"dataframe\">\n",
       "  <thead>\n",
       "    <tr style=\"text-align: right;\">\n",
       "      <th></th>\n",
       "      <th>paragraph</th>\n",
       "      <th>title</th>\n",
       "      <th>link</th>\n",
       "      <th>image_url</th>\n",
       "    </tr>\n",
       "  </thead>\n",
       "  <tbody>\n",
       "    <tr>\n",
       "      <th>0</th>\n",
       "      <td>India-born renowned Pakistani Shia scholar All...</td>\n",
       "      <td>India-born famed Pakistani Shia scholar dies a...</td>\n",
       "      <td>https://www.indiatoday.in//world/story/india-b...</td>\n",
       "      <td>https://akm-img-a-in.tosshub.com/indiatoday/im...</td>\n",
       "    </tr>\n",
       "    <tr>\n",
       "      <th>1</th>\n",
       "      <td>The Special Task Force team on Sunday have det...</td>\n",
       "      <td>Odisha: Marijuana worth Rs 20 lakh seized, 4 d...</td>\n",
       "      <td>https://www.indiatoday.in//crime/story/odisha-...</td>\n",
       "      <td>https://akm-img-a-in.tosshub.com/indiatoday/im...</td>\n",
       "    </tr>\n",
       "    <tr>\n",
       "      <th>2</th>\n",
       "      <td>The 18-year-old Manchester United forward has ...</td>\n",
       "      <td>Premier League: Manchester United’s Mason Gree...</td>\n",
       "      <td>https://www.indiatoday.in//sports/football/sto...</td>\n",
       "      <td>https://akm-img-a-in.tosshub.com/indiatoday/im...</td>\n",
       "    </tr>\n",
       "    <tr>\n",
       "      <th>3</th>\n",
       "      <td>Posts suggesting that Madan Sharma was formerl...</td>\n",
       "      <td>Thrashed by Shiv Sena workers, Madan Sharma sh...</td>\n",
       "      <td>https://www.indiatoday.in//india/story/naval-i...</td>\n",
       "      <td>https://akm-img-a-in.tosshub.com/indiatoday/im...</td>\n",
       "    </tr>\n",
       "    <tr>\n",
       "      <th>4</th>\n",
       "      <td>Lewis Hamilton took the 90th F1 win of his car...</td>\n",
       "      <td>F1: Lewis Hamilton wins crash-marred Tuscan GP...</td>\n",
       "      <td>https://www.indiatoday.in//sports/formula-one/...</td>\n",
       "      <td>https://akm-img-a-in.tosshub.com/indiatoday/im...</td>\n",
       "    </tr>\n",
       "    <tr>\n",
       "      <th>5</th>\n",
       "      <td>Crews were to resume searching for the dead on...</td>\n",
       "      <td>Search on for survivors as wildfires torch mil...</td>\n",
       "      <td>https://www.indiatoday.in//world/story/search-...</td>\n",
       "      <td>https://akm-img-a-in.tosshub.com/indiatoday/im...</td>\n",
       "    </tr>\n",
       "    <tr>\n",
       "      <th>6</th>\n",
       "      <td>Jamie Vardy, Premier League’s top scorer last ...</td>\n",
       "      <td>Premier League: Jamie Vardy scores twice as Le...</td>\n",
       "      <td>https://www.indiatoday.in//sports/football/sto...</td>\n",
       "      <td>https://akm-img-a-in.tosshub.com/indiatoday/im...</td>\n",
       "    </tr>\n",
       "    <tr>\n",
       "      <th>7</th>\n",
       "      <td>The licences of 56 customs brokers linked with...</td>\n",
       "      <td>Licence of 56 customs brokers suspended for fr...</td>\n",
       "      <td>https://www.indiatoday.in//crime/story/licence...</td>\n",
       "      <td>https://akm-img-a-in.tosshub.com/indiatoday/im...</td>\n",
       "    </tr>\n",
       "    <tr>\n",
       "      <th>8</th>\n",
       "      <td>Benfica confirmed in their medical bulletin th...</td>\n",
       "      <td>Benfica goalkeeper Mile Svilar, 3 Sporting pla...</td>\n",
       "      <td>https://www.indiatoday.in//sports/football/sto...</td>\n",
       "      <td>https://akm-img-a-in.tosshub.com/indiatoday/im...</td>\n",
       "    </tr>\n",
       "    <tr>\n",
       "      <th>9</th>\n",
       "      <td>The six-time Formula One world champion Lewis ...</td>\n",
       "      <td>Formula One: Mercedes driver Lewis Hamilton we...</td>\n",
       "      <td>https://www.indiatoday.in//sports/formula-one/...</td>\n",
       "      <td>https://akm-img-a-in.tosshub.com/indiatoday/im...</td>\n",
       "    </tr>\n",
       "    <tr>\n",
       "      <th>10</th>\n",
       "      <td>Former Australia cricketer Shane Warne has bee...</td>\n",
       "      <td>IPL 2020: Rajasthan Royals welcome back Shane ...</td>\n",
       "      <td>https://www.indiatoday.in//sports/cricket/stor...</td>\n",
       "      <td>https://akm-img-a-in.tosshub.com/indiatoday/im...</td>\n",
       "    </tr>\n",
       "    <tr>\n",
       "      <th>11</th>\n",
       "      <td>Residents of Bermuda were urged to prepare to ...</td>\n",
       "      <td>Hurricane Paulette rolls toward Bermuda; Sally...</td>\n",
       "      <td>https://www.indiatoday.in//world/story/hurrica...</td>\n",
       "      <td>https://akm-img-a-in.tosshub.com/indiatoday/im...</td>\n",
       "    </tr>\n",
       "  </tbody>\n",
       "</table>\n",
       "</div>"
      ],
      "text/plain": [
       "                                            paragraph  \\\n",
       "0   India-born renowned Pakistani Shia scholar All...   \n",
       "1   The Special Task Force team on Sunday have det...   \n",
       "2   The 18-year-old Manchester United forward has ...   \n",
       "3   Posts suggesting that Madan Sharma was formerl...   \n",
       "4   Lewis Hamilton took the 90th F1 win of his car...   \n",
       "5   Crews were to resume searching for the dead on...   \n",
       "6   Jamie Vardy, Premier League’s top scorer last ...   \n",
       "7   The licences of 56 customs brokers linked with...   \n",
       "8   Benfica confirmed in their medical bulletin th...   \n",
       "9   The six-time Formula One world champion Lewis ...   \n",
       "10  Former Australia cricketer Shane Warne has bee...   \n",
       "11  Residents of Bermuda were urged to prepare to ...   \n",
       "\n",
       "                                                title  \\\n",
       "0   India-born famed Pakistani Shia scholar dies a...   \n",
       "1   Odisha: Marijuana worth Rs 20 lakh seized, 4 d...   \n",
       "2   Premier League: Manchester United’s Mason Gree...   \n",
       "3   Thrashed by Shiv Sena workers, Madan Sharma sh...   \n",
       "4   F1: Lewis Hamilton wins crash-marred Tuscan GP...   \n",
       "5   Search on for survivors as wildfires torch mil...   \n",
       "6   Premier League: Jamie Vardy scores twice as Le...   \n",
       "7   Licence of 56 customs brokers suspended for fr...   \n",
       "8   Benfica goalkeeper Mile Svilar, 3 Sporting pla...   \n",
       "9   Formula One: Mercedes driver Lewis Hamilton we...   \n",
       "10  IPL 2020: Rajasthan Royals welcome back Shane ...   \n",
       "11  Hurricane Paulette rolls toward Bermuda; Sally...   \n",
       "\n",
       "                                                 link  \\\n",
       "0   https://www.indiatoday.in//world/story/india-b...   \n",
       "1   https://www.indiatoday.in//crime/story/odisha-...   \n",
       "2   https://www.indiatoday.in//sports/football/sto...   \n",
       "3   https://www.indiatoday.in//india/story/naval-i...   \n",
       "4   https://www.indiatoday.in//sports/formula-one/...   \n",
       "5   https://www.indiatoday.in//world/story/search-...   \n",
       "6   https://www.indiatoday.in//sports/football/sto...   \n",
       "7   https://www.indiatoday.in//crime/story/licence...   \n",
       "8   https://www.indiatoday.in//sports/football/sto...   \n",
       "9   https://www.indiatoday.in//sports/formula-one/...   \n",
       "10  https://www.indiatoday.in//sports/cricket/stor...   \n",
       "11  https://www.indiatoday.in//world/story/hurrica...   \n",
       "\n",
       "                                            image_url  \n",
       "0   https://akm-img-a-in.tosshub.com/indiatoday/im...  \n",
       "1   https://akm-img-a-in.tosshub.com/indiatoday/im...  \n",
       "2   https://akm-img-a-in.tosshub.com/indiatoday/im...  \n",
       "3   https://akm-img-a-in.tosshub.com/indiatoday/im...  \n",
       "4   https://akm-img-a-in.tosshub.com/indiatoday/im...  \n",
       "5   https://akm-img-a-in.tosshub.com/indiatoday/im...  \n",
       "6   https://akm-img-a-in.tosshub.com/indiatoday/im...  \n",
       "7   https://akm-img-a-in.tosshub.com/indiatoday/im...  \n",
       "8   https://akm-img-a-in.tosshub.com/indiatoday/im...  \n",
       "9   https://akm-img-a-in.tosshub.com/indiatoday/im...  \n",
       "10  https://akm-img-a-in.tosshub.com/indiatoday/im...  \n",
       "11  https://akm-img-a-in.tosshub.com/indiatoday/im...  "
      ]
     },
     "execution_count": 22,
     "metadata": {},
     "output_type": "execute_result"
    }
   ],
   "source": [
    "news_df"
   ]
  },
  {
   "cell_type": "code",
   "execution_count": 23,
   "metadata": {},
   "outputs": [],
   "source": [
    "import pdfkit"
   ]
  },
  {
   "cell_type": "code",
   "execution_count": 43,
   "metadata": {},
   "outputs": [],
   "source": [
    "def generate_pdf(df):\n",
    "    \n",
    "    for i in range(len(df)):\n",
    "        \n",
    "        \n",
    "        pd.set_option('colheader_justify', 'center')   # FOR TABLE <th>\n",
    "\n",
    "        html_string = '''\n",
    "        <html>\n",
    "          <head><title>News Headline</title>\n",
    "          <h2> ''' + str(df['title'][i])+''' </h2>\n",
    "          </head>\n",
    "          <body>\n",
    "             <img src= \"''' + str(df['image_url'][i]) + '''\" width=\"80\" height=\"60\">\n",
    "             <p> '''+ str(df['paragraph'][i])  + '''</p>  \n",
    "          </body>\n",
    "        </html>.\n",
    "        '''\n",
    "     \n",
    "        \n",
    " \n",
    "        # OUTPUT AN HTML FILE\n",
    "        with open('myhtml.html', 'w') as f:\n",
    "            f.write(html_string.format(table=news_df.to_html(classes='mystyle')))\n",
    "        pdf_file_name = 'news_'+ str(i) + '.pdf'\n",
    "        \n",
    "        options = {\n",
    "         'page-size': 'Letter',\n",
    "         'margin-top': '0.75in',\n",
    "         'margin-right': '0.75in',\n",
    "         'margin-bottom': '0.75in',\n",
    "         'margin-left': '0.75in',\n",
    "         'encoding': \"UTF-8\",\n",
    "         'no-outline': None,\n",
    "          'orientation':'Portrait'  \n",
    "         } \n",
    "        pdfkit.from_url('myhtml.html',pdf_file_name ,options=options)\n",
    "    \n",
    "    \n",
    "    "
   ]
  },
  {
   "cell_type": "code",
   "execution_count": 44,
   "metadata": {},
   "outputs": [
    {
     "name": "stdout",
     "output_type": "stream",
     "text": [
      "Loading pages (1/6)\r\n",
      "[>                                                           ] 0%\r",
      "[======>                                                     ] 10%\r",
      "[==============================>                             ] 50%\r",
      "[===================================>                        ] 59%\r",
      "[============================================================] 100%\r",
      "Counting pages (2/6)                                               \r\n",
      "[============================================================] Object 1 of 1\r",
      "Resolving links (4/6)                                                       \r\n",
      "[============================================================] Object 1 of 1\r",
      "Loading headers and footers (5/6)                                           \r\n",
      "Printing pages (6/6)\r\n",
      "[>                                                           ] Preparing\r",
      "[============================================================] Page 1 of 1\r",
      "Done                                                                      \r\n"
     ]
    }
   ],
   "source": [
    "generate_pdf(news_df[:1])"
   ]
  },
  {
   "cell_type": "code",
   "execution_count": null,
   "metadata": {},
   "outputs": [],
   "source": []
  },
  {
   "cell_type": "code",
   "execution_count": null,
   "metadata": {},
   "outputs": [],
   "source": []
  },
  {
   "cell_type": "code",
   "execution_count": null,
   "metadata": {},
   "outputs": [],
   "source": []
  },
  {
   "cell_type": "code",
   "execution_count": null,
   "metadata": {},
   "outputs": [],
   "source": []
  },
  {
   "cell_type": "code",
   "execution_count": null,
   "metadata": {},
   "outputs": [],
   "source": []
  },
  {
   "cell_type": "code",
   "execution_count": null,
   "metadata": {},
   "outputs": [],
   "source": []
  },
  {
   "cell_type": "code",
   "execution_count": null,
   "metadata": {},
   "outputs": [],
   "source": []
  },
  {
   "cell_type": "code",
   "execution_count": null,
   "metadata": {},
   "outputs": [],
   "source": []
  },
  {
   "cell_type": "code",
   "execution_count": null,
   "metadata": {},
   "outputs": [],
   "source": []
  },
  {
   "cell_type": "code",
   "execution_count": null,
   "metadata": {},
   "outputs": [],
   "source": []
  },
  {
   "cell_type": "code",
   "execution_count": null,
   "metadata": {},
   "outputs": [],
   "source": []
  },
  {
   "cell_type": "code",
   "execution_count": null,
   "metadata": {},
   "outputs": [],
   "source": []
  },
  {
   "cell_type": "code",
   "execution_count": null,
   "metadata": {},
   "outputs": [],
   "source": []
  },
  {
   "cell_type": "code",
   "execution_count": null,
   "metadata": {},
   "outputs": [],
   "source": []
  },
  {
   "cell_type": "code",
   "execution_count": null,
   "metadata": {},
   "outputs": [],
   "source": []
  }
 ],
 "metadata": {
  "kernelspec": {
   "display_name": "Python 3",
   "language": "python",
   "name": "python3"
  },
  "language_info": {
   "codemirror_mode": {
    "name": "ipython",
    "version": 3
   },
   "file_extension": ".py",
   "mimetype": "text/x-python",
   "name": "python",
   "nbconvert_exporter": "python",
   "pygments_lexer": "ipython3",
   "version": "3.6.5"
  }
 },
 "nbformat": 4,
 "nbformat_minor": 4
}
